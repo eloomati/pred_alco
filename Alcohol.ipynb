{
  "nbformat": 4,
  "nbformat_minor": 0,
  "metadata": {
    "colab": {
      "provenance": [],
      "gpuType": "T4"
    },
    "kernelspec": {
      "name": "python3",
      "display_name": "Python 3"
    },
    "language_info": {
      "name": "python"
    },
    "accelerator": "GPU",
    "gpuClass": "standard"
  },
  "cells": [
    {
      "cell_type": "markdown",
      "source": [
        "\n",
        "# Assumptions of the project"
      ],
      "metadata": {
        "id": "igwqZWX7Oipb"
      }
    },
    {
      "cell_type": "markdown",
      "source": [
        "Program realizuje zadanie polegające na skategoryzowaniu odpowiedniego rodzaju alkoholu, po przedstawieniu butelki przez użytkownika. \n",
        "\n",
        "W celu realizacji tego zadania została przygotowana autorska baza danych składająca się z odpowiednio pokategoryzowanych zdjęć oraz sieć neuronowa. \n",
        "\n",
        "Dane zostały oczyszczone w odpowiedni sposób oraz rozbudowane przez technikę albumentacji.\n",
        "\n",
        "Technologie użyte podczas projektu:\n",
        "bs4, tensorflow, albomentations, cv2, numpy, seaborn"
      ],
      "metadata": {
        "id": "yGC071IXfDSA"
      }
    },
    {
      "cell_type": "markdown",
      "source": [
        "# IMPORTS"
      ],
      "metadata": {
        "id": "UOBoZnF0LFIP"
      }
    },
    {
      "cell_type": "code",
      "source": [
        "import requests\n",
        "from bs4 import BeautifulSoup\n",
        "from PIL import Image\n",
        "from io import BytesIO\n",
        "import os\n",
        "import random\n",
        "\n",
        "from tensorflow import keras \n",
        "from tensorflow.keras.models import Sequential\n",
        "from tensorflow.keras import layers\n",
        "\n",
        "\n",
        "import albumentations as A\n",
        "\n",
        "from google.colab.patches import cv2_imshow\n",
        "import cv2\n",
        "import numpy as np"
      ],
      "metadata": {
        "id": "xR19XY-uLVfe"
      },
      "execution_count": null,
      "outputs": []
    },
    {
      "cell_type": "code",
      "source": [
        "# link to google drive\n",
        "\n",
        "from google.colab import drive\n",
        "drive.mount('/content/drive')"
      ],
      "metadata": {
        "colab": {
          "base_uri": "https://localhost:8080/"
        },
        "id": "Qg2xH8dTQSV-",
        "outputId": "b47c7a03-3c2e-45a4-e49d-33c5cb863b22"
      },
      "execution_count": null,
      "outputs": [
        {
          "output_type": "stream",
          "name": "stdout",
          "text": [
            "Mounted at /content/drive\n"
          ]
        }
      ]
    },
    {
      "cell_type": "markdown",
      "source": [
        "# DATA COLLECTION "
      ],
      "metadata": {
        "id": "3nuypuQbK5lE"
      }
    },
    {
      "cell_type": "markdown",
      "source": [
        "## Single sample"
      ],
      "metadata": {
        "id": "aiZ680KQZ08t"
      }
    },
    {
      "cell_type": "code",
      "execution_count": null,
      "metadata": {
        "id": "23wMN7YyKegE"
      },
      "outputs": [],
      "source": [
        "category = 'pol_m_Inne-alkohole'\n",
        "subcategory = '_Gin'\n",
        "page_counter = '2'\n",
        "identi = '-465'\n",
        "\n",
        "url = f\"https://sklep-domwhisky.pl/{category}{subcategory}{identi}.html?counter={page_counter}\""
      ]
    },
    {
      "cell_type": "code",
      "source": [
        "response = requests.get(url)\n",
        "content = response.content"
      ],
      "metadata": {
        "id": "xggMiDf5OnKv"
      },
      "execution_count": null,
      "outputs": []
    },
    {
      "cell_type": "code",
      "source": [
        "soup = BeautifulSoup(content, 'html.parser')"
      ],
      "metadata": {
        "id": "ESQvLEUbOu65"
      },
      "execution_count": null,
      "outputs": []
    },
    {
      "cell_type": "code",
      "source": [
        "imgs = soup.find_all('img',{'class': 'b-lazy'})"
      ],
      "metadata": {
        "id": "Cr76aXYHQu_p"
      },
      "execution_count": null,
      "outputs": []
    },
    {
      "cell_type": "code",
      "source": [
        "len(imgs)"
      ],
      "metadata": {
        "colab": {
          "base_uri": "https://localhost:8080/"
        },
        "id": "W8s0STreRh9E",
        "outputId": "b557b4e5-1a80-44ee-8278-cf767e112ee7"
      },
      "execution_count": null,
      "outputs": [
        {
          "output_type": "execute_result",
          "data": {
            "text/plain": [
              "32"
            ]
          },
          "metadata": {},
          "execution_count": 117
        }
      ]
    },
    {
      "cell_type": "code",
      "source": [
        "imgs[0]['data-src']"
      ],
      "metadata": {
        "colab": {
          "base_uri": "https://localhost:8080/",
          "height": 35
        },
        "id": "n46LRSEUSA-p",
        "outputId": "fd7e5b86-bc66-4f20-9701-3b160464d556"
      },
      "execution_count": null,
      "outputs": [
        {
          "output_type": "execute_result",
          "data": {
            "text/plain": [
              "'/pol_il_Bombay-Sapphire-Sunset-Special-Edition-London-Dry-Gin-43-0-7l-28158.jpg'"
            ],
            "application/vnd.google.colaboratory.intrinsic+json": {
              "type": "string"
            }
          },
          "metadata": {},
          "execution_count": 118
        }
      ]
    },
    {
      "cell_type": "code",
      "source": [
        "for img in imgs:\n",
        "  urls = 'https://sklep-domwhisky.pl' + img['data-src']\n",
        "  print(urls)"
      ],
      "metadata": {
        "colab": {
          "base_uri": "https://localhost:8080/"
        },
        "id": "iIO-0x-OhCEF",
        "outputId": "b3a81de6-ff45-49d9-a00b-2c65c0809847"
      },
      "execution_count": null,
      "outputs": [
        {
          "output_type": "stream",
          "name": "stdout",
          "text": [
            "https://sklep-domwhisky.pl/pol_il_Bombay-Sapphire-Sunset-Special-Edition-London-Dry-Gin-43-0-7l-28158.jpg\n",
            "https://sklep-domwhisky.pl/pol_il_Gin-Lane-1751-Old-Tom-Gin-UK-40-0-7l-15090.jpg\n",
            "https://sklep-domwhisky.pl/pol_il_Cross-Keys-Single-Batch-Gin-41-0-7l-17938.jpg\n",
            "https://sklep-domwhisky.pl/pol_il_Goa-Loove-Edition-Wild-Berry-Premium-Gin-37-5-0-7l-18500.jpg\n",
            "https://sklep-domwhisky.pl/pol_il_Tenjaku-Gin-37-5-0-7l-26403.jpg\n",
            "https://sklep-domwhisky.pl/pol_il_Cross-Keys-Black-Currant-Small-Batch-Gin-38-0-7l-30888.jpg\n",
            "https://sklep-domwhisky.pl/pol_il_Cross-Keys-Sea-Buckthorn-Premium-Craft-Gin-38-0-7l-30889.jpg\n",
            "https://sklep-domwhisky.pl/pol_il_Cross-Keys-Botanical-Small-Batch-Gin-41-0-7l-30890.jpg\n",
            "https://sklep-domwhisky.pl/pol_il_Poppies-Gin-14-18-Belgia-40-0-5l-14144.jpg\n",
            "https://sklep-domwhisky.pl/pol_il_Peaky-Blinder-Spiced-Dry-Gin-40-0-7l-18527.jpg\n",
            "https://sklep-domwhisky.pl/pol_il_Xoriguer-Mahon-Gin-38-0-7l-25225.jpg\n",
            "https://sklep-domwhisky.pl/pol_il_Beefeater-Blood-Orange-London-Gin-37-5-1-0l-20318.jpg\n",
            "https://sklep-domwhisky.pl/pol_il_Boe-Superior-Gin-47-0-7l-13125.jpg\n",
            "https://sklep-domwhisky.pl/pol_il_Whitley-Neill-Original-Handcrafted-Dry-Gin-UK-43-0-7l-13210.jpg\n",
            "https://sklep-domwhisky.pl/pol_il_Marcati-Extreme-Gin-42-0-7l-15942.jpg\n",
            "https://sklep-domwhisky.pl/pol_il_Malfy-Con-Limone-Italian-Gin-41-0-7l-16818.jpg\n",
            "https://sklep-domwhisky.pl/pol_il_Malfy-Originale-Italian-Gin-41-0-7l-16819.jpg\n",
            "https://sklep-domwhisky.pl/pol_il_Malfy-Gin-Rosa-Pink-Grapefruit-41-0-7l-16820.jpg\n",
            "https://sklep-domwhisky.pl/pol_il_Malfy-Con-Arancia-Blood-Orange-Gin-Wlochy-41-0-7l-16821.jpg\n",
            "https://sklep-domwhisky.pl/pol_il_Crafters-London-Dry-Gin-43-0-7l-18355.jpg\n",
            "https://sklep-domwhisky.pl/pol_il_Marcati-Gin-Arancia-Rossa-di-Sicilia-Italy-42-0-7l-21014.jpg\n",
            "https://sklep-domwhisky.pl/pol_il_Gordons-White-Peach-Gin-37-5-0-7l-21993.jpg\n",
            "https://sklep-domwhisky.pl/pol_il_Goa-London-Dry-Gin-43-0-7l-22352.jpg\n",
            "https://sklep-domwhisky.pl/pol_il_Tranquebar-400th-Anniversary-Gin-45-0-7l-24408.jpg\n",
            "https://sklep-domwhisky.pl/pol_il_Beefeater-London-Light-Gin-20-0-7l-25223.jpg\n",
            "https://sklep-domwhisky.pl/pol_il_Bickens-London-Dry-Gin-40-1-0l-27642.jpg\n",
            "https://sklep-domwhisky.pl/pol_il_HTK-Belgian-Dry-Gin-43-7-0-7l-28210.jpg\n",
            "https://sklep-domwhisky.pl/pol_il_Langleys-London-Dry-Gin-41-7-0-7l-28736.jpg\n",
            "https://sklep-domwhisky.pl/pol_il_Gin-De-France-Premium-Blend-40-0-5l-26116.jpg\n",
            "https://sklep-domwhisky.pl/pol_il_Opihr-London-Dry-Gin-Far-East-Edition-43-0-7l-21080.jpg\n",
            "https://sklep-domwhisky.pl/pol_il_Whitley-Neill-Connoisseurs-Cut-Gin-47-0-7l-26097.jpg\n",
            "https://sklep-domwhisky.pl/pol_il_Ninth-Wave-Irish-Gin-43-0-7l-22315.jpg\n"
          ]
        }
      ]
    },
    {
      "cell_type": "code",
      "source": [
        "end_urls = [img['data-src'] for img in imgs]"
      ],
      "metadata": {
        "id": "lJuuPORAU0Xc"
      },
      "execution_count": null,
      "outputs": []
    },
    {
      "cell_type": "code",
      "source": [
        "end_urls[0]"
      ],
      "metadata": {
        "colab": {
          "base_uri": "https://localhost:8080/",
          "height": 35
        },
        "id": "GlT8ffOtX3C4",
        "outputId": "71176011-0427-48e0-8459-efe2f00b8fd9"
      },
      "execution_count": null,
      "outputs": [
        {
          "output_type": "execute_result",
          "data": {
            "text/plain": [
              "'/pol_il_Bombay-Sapphire-Sunset-Special-Edition-London-Dry-Gin-43-0-7l-28158.jpg'"
            ],
            "application/vnd.google.colaboratory.intrinsic+json": {
              "type": "string"
            }
          },
          "metadata": {},
          "execution_count": 121
        }
      ]
    },
    {
      "cell_type": "code",
      "source": [
        "response = requests.get(urls)\n",
        "content = response.content"
      ],
      "metadata": {
        "id": "rBV_iKonVJY7"
      },
      "execution_count": null,
      "outputs": []
    },
    {
      "cell_type": "code",
      "source": [
        "Image.open(BytesIO(content))"
      ],
      "metadata": {
        "colab": {
          "base_uri": "https://localhost:8080/",
          "height": 267
        },
        "id": "lbfgRrDqZdNn",
        "outputId": "22370a61-c642-454a-e16f-e3afe0fbe6b1"
      },
      "execution_count": null,
      "outputs": [
        {
          "output_type": "execute_result",
          "data": {
            "text/plain": [
              "<PIL.JpegImagePlugin.JpegImageFile image mode=RGB size=102x250 at 0x7FBEC9205E10>"
            ],
            "image/png": "[encoded data removed]"
          },
          "metadata": {},
          "execution_count": 123
        }
      ]
    },
    {
      "cell_type": "code",
      "source": [
        "img = Image.open(BytesIO(content))"
      ],
      "metadata": {
        "id": "HKxkXVyNZLXF"
      },
      "execution_count": null,
      "outputs": []
    },
    {
      "cell_type": "code",
      "source": [
        "img.save('gin.jpg')\n"
      ],
      "metadata": {
        "id": "RgHMCN7IZSia"
      },
      "execution_count": null,
      "outputs": []
    },
    {
      "cell_type": "code",
      "source": [
        "type(img)"
      ],
      "metadata": {
        "colab": {
          "base_uri": "https://localhost:8080/"
        },
        "id": "0BeDxwrrl5Cm",
        "outputId": "4ce31fc7-669e-4a1b-ed27-cdb5f542b325"
      },
      "execution_count": null,
      "outputs": [
        {
          "output_type": "execute_result",
          "data": {
            "text/plain": [
              "PIL.JpegImagePlugin.JpegImageFile"
            ]
          },
          "metadata": {},
          "execution_count": 127
        }
      ]
    },
    {
      "cell_type": "code",
      "source": [
        "img.size"
      ],
      "metadata": {
        "colab": {
          "base_uri": "https://localhost:8080/"
        },
        "id": "5BqCKVjEmoqW",
        "outputId": "a4e5a973-0e3c-4613-fdc6-75da32cc0019"
      },
      "execution_count": null,
      "outputs": [
        {
          "output_type": "execute_result",
          "data": {
            "text/plain": [
              "(102, 250)"
            ]
          },
          "metadata": {},
          "execution_count": 128
        }
      ]
    },
    {
      "cell_type": "markdown",
      "source": [
        "## Mass collection"
      ],
      "metadata": {
        "id": "BjqfLQfzZ9Ii"
      }
    },
    {
      "cell_type": "markdown",
      "source": [
        "### Downloading functions"
      ],
      "metadata": {
        "id": "vBoPHO0jcj7W"
      }
    },
    {
      "cell_type": "code",
      "source": [
        "def get_page(category, subcategory, identi, page_counter):\n",
        "  url = f\"https://sklep-domwhisky.pl/{category}{subcategory}{identi}.html?counter={page_counter}\"\n",
        "  try:\n",
        "    response = requests.get(url)\n",
        "    content = response.content\n",
        "    return content\n",
        "  except:\n",
        "    print('Web doesnt exist')"
      ],
      "metadata": {
        "id": "zIS3pz13bCmr"
      },
      "execution_count": null,
      "outputs": []
    },
    {
      "cell_type": "code",
      "source": [
        "def parse_url(content):\n",
        "  soup = BeautifulSoup(content, 'html.parser')\n",
        "  imgs = soup.find_all('img',{'class': 'b-lazy'})\n",
        "  end_link = [img['data-src'] for img in imgs]\n",
        "  return end_link\n",
        "\n",
        "  "
      ],
      "metadata": {
        "id": "0ORZy8kvbkjM"
      },
      "execution_count": null,
      "outputs": []
    },
    {
      "cell_type": "code",
      "source": [
        "def get_img(url, path, subcategory):\n",
        "  try: \n",
        "    response = requests.get(url)\n",
        "    content = response.content\n",
        "    img = Image.open(BytesIO(content))\n",
        "    img_name = url.split('/')[-1].split('.')[0] + '.jpg'\n",
        "    os.makedirs(f'{path}/{subcategory}', exist_ok=True)\n",
        "    img.save(f'{path}/{subcategory}/{img_name}')\n",
        "  except:\n",
        "    print('Fail')"
      ],
      "metadata": {
        "id": "W9Q1iKKwcgos"
      },
      "execution_count": null,
      "outputs": []
    },
    {
      "cell_type": "code",
      "source": [
        "def get_data(category,\n",
        "             subcategory,\n",
        "             identi,\n",
        "             start_page,\n",
        "             end_page,\n",
        "             path):\n",
        "  for page_counter in range(start_page, end_page + 1):\n",
        "    content = get_page(category, subcategory, identi, page_counter)\n",
        "    urls =  parse_url(content)\n",
        "\n",
        "    for i, url in enumerate(urls):\n",
        "      link = 'https://sklep-domwhisky.pl' + url\n",
        "      get_img(link, path, subcategory)\n",
        "      if i % 20 == 0:\n",
        "        print(f'Downloaded {i} for page {page_counter} from {subcategory}')"
      ],
      "metadata": {
        "id": "5VBAxIxadaN5"
      },
      "execution_count": null,
      "outputs": []
    },
    {
      "cell_type": "markdown",
      "source": [
        "### Pobieranie danych"
      ],
      "metadata": {
        "id": "9S3elbvvdIjP"
      }
    },
    {
      "cell_type": "code",
      "source": [
        "data_path = 'drive/MyDrive/vision_alko_project/data/train'\n",
        "\n",
        "get_data('pol_m_Inne-alkohole_', 'Gin', '-465', 1, 10, data_path)\n",
        "get_data('pol_m_Inne-alkohole_', 'Mezcal-Sotol-Tequila', '-473', 1, 10, data_path)\n",
        "get_data('pol_m_Inne-alkohole_', 'Wodki-Okowity-Nalewki', '-207', 1, 10, data_path)\n",
        "get_data('pol_m_Inne-alkohole_', 'Rum', '-467', 1, 10, data_path)\n",
        "get_data('pol_m_Inne-alkohole_', 'Likiery', '-193', 1, 10, data_path)\n",
        "get_data('pol_m_World-Whisky_', 'Whiskey-amerykanska', '-151', 1, 10, data_path)"
      ],
      "metadata": {
        "colab": {
          "base_uri": "https://localhost:8080/"
        },
        "id": "DO5NBkfMfOkV",
        "outputId": "223c481a-8f64-4102-aa2f-5dce40a4c32c"
      },
      "execution_count": null,
      "outputs": [
        {
          "output_type": "stream",
          "name": "stdout",
          "text": [
            "Downloaded 0 for page 1 from Gin\n",
            "Downloaded 20 for page 1 from Gin\n",
            "Downloaded 0 for page 2 from Gin\n",
            "Downloaded 20 for page 2 from Gin\n",
            "Downloaded 0 for page 3 from Gin\n",
            "Downloaded 20 for page 3 from Gin\n",
            "Downloaded 0 for page 4 from Gin\n",
            "Downloaded 20 for page 4 from Gin\n",
            "Downloaded 0 for page 5 from Gin\n",
            "Downloaded 20 for page 5 from Gin\n",
            "Downloaded 0 for page 6 from Gin\n",
            "Downloaded 20 for page 6 from Gin\n",
            "Downloaded 0 for page 7 from Gin\n",
            "Downloaded 20 for page 7 from Gin\n",
            "Downloaded 0 for page 8 from Gin\n",
            "Downloaded 20 for page 8 from Gin\n",
            "Downloaded 0 for page 9 from Gin\n",
            "Downloaded 20 for page 9 from Gin\n",
            "Downloaded 0 for page 10 from Gin\n",
            "Downloaded 20 for page 10 from Gin\n",
            "Downloaded 0 for page 1 from Mezcal-Sotol-Tequila\n",
            "Downloaded 20 for page 1 from Mezcal-Sotol-Tequila\n",
            "Downloaded 0 for page 2 from Mezcal-Sotol-Tequila\n",
            "Downloaded 20 for page 2 from Mezcal-Sotol-Tequila\n",
            "Downloaded 0 for page 3 from Mezcal-Sotol-Tequila\n",
            "Downloaded 20 for page 3 from Mezcal-Sotol-Tequila\n",
            "Downloaded 0 for page 4 from Mezcal-Sotol-Tequila\n",
            "Downloaded 20 for page 4 from Mezcal-Sotol-Tequila\n",
            "Downloaded 0 for page 5 from Mezcal-Sotol-Tequila\n",
            "Downloaded 20 for page 5 from Mezcal-Sotol-Tequila\n",
            "Downloaded 0 for page 6 from Mezcal-Sotol-Tequila\n",
            "Downloaded 20 for page 6 from Mezcal-Sotol-Tequila\n",
            "Downloaded 0 for page 7 from Mezcal-Sotol-Tequila\n",
            "Downloaded 20 for page 7 from Mezcal-Sotol-Tequila\n",
            "Downloaded 0 for page 8 from Mezcal-Sotol-Tequila\n",
            "Downloaded 20 for page 8 from Mezcal-Sotol-Tequila\n",
            "Downloaded 0 for page 9 from Mezcal-Sotol-Tequila\n",
            "Downloaded 0 for page 1 from Wodki-Okowity-Nalewki\n",
            "Downloaded 20 for page 1 from Wodki-Okowity-Nalewki\n",
            "Downloaded 0 for page 2 from Wodki-Okowity-Nalewki\n",
            "Downloaded 20 for page 2 from Wodki-Okowity-Nalewki\n",
            "Downloaded 0 for page 3 from Wodki-Okowity-Nalewki\n",
            "Fail\n",
            "Downloaded 20 for page 3 from Wodki-Okowity-Nalewki\n",
            "Downloaded 0 for page 4 from Wodki-Okowity-Nalewki\n",
            "Downloaded 20 for page 4 from Wodki-Okowity-Nalewki\n",
            "Downloaded 0 for page 5 from Wodki-Okowity-Nalewki\n",
            "Downloaded 20 for page 5 from Wodki-Okowity-Nalewki\n",
            "Downloaded 0 for page 6 from Wodki-Okowity-Nalewki\n",
            "Downloaded 20 for page 6 from Wodki-Okowity-Nalewki\n",
            "Downloaded 0 for page 7 from Wodki-Okowity-Nalewki\n",
            "Downloaded 20 for page 7 from Wodki-Okowity-Nalewki\n",
            "Downloaded 0 for page 8 from Wodki-Okowity-Nalewki\n",
            "Downloaded 20 for page 8 from Wodki-Okowity-Nalewki\n",
            "Downloaded 0 for page 9 from Wodki-Okowity-Nalewki\n",
            "Downloaded 20 for page 9 from Wodki-Okowity-Nalewki\n",
            "Downloaded 0 for page 10 from Wodki-Okowity-Nalewki\n",
            "Downloaded 20 for page 10 from Wodki-Okowity-Nalewki\n",
            "Downloaded 0 for page 1 from Rum\n",
            "Downloaded 20 for page 1 from Rum\n",
            "Downloaded 0 for page 2 from Rum\n",
            "Downloaded 20 for page 2 from Rum\n",
            "Downloaded 0 for page 3 from Rum\n",
            "Downloaded 20 for page 3 from Rum\n",
            "Fail\n",
            "Downloaded 0 for page 4 from Rum\n",
            "Downloaded 20 for page 4 from Rum\n",
            "Downloaded 0 for page 5 from Rum\n",
            "Downloaded 20 for page 5 from Rum\n",
            "Downloaded 0 for page 6 from Rum\n",
            "Downloaded 20 for page 6 from Rum\n",
            "Downloaded 0 for page 7 from Rum\n",
            "Downloaded 20 for page 7 from Rum\n",
            "Downloaded 0 for page 8 from Rum\n",
            "Downloaded 20 for page 8 from Rum\n",
            "Downloaded 0 for page 9 from Rum\n",
            "Downloaded 20 for page 9 from Rum\n",
            "Downloaded 0 for page 10 from Rum\n",
            "Downloaded 20 for page 10 from Rum\n",
            "Downloaded 0 for page 1 from Likiery\n",
            "Downloaded 20 for page 1 from Likiery\n",
            "Downloaded 0 for page 2 from Likiery\n",
            "Downloaded 20 for page 2 from Likiery\n",
            "Downloaded 0 for page 3 from Likiery\n",
            "Downloaded 20 for page 3 from Likiery\n",
            "Downloaded 0 for page 4 from Likiery\n",
            "Downloaded 20 for page 4 from Likiery\n",
            "Downloaded 0 for page 5 from Likiery\n",
            "Downloaded 20 for page 5 from Likiery\n",
            "Downloaded 0 for page 6 from Likiery\n",
            "Downloaded 20 for page 6 from Likiery\n",
            "Downloaded 0 for page 7 from Likiery\n",
            "Downloaded 20 for page 7 from Likiery\n",
            "Downloaded 0 for page 8 from Likiery\n",
            "Downloaded 20 for page 8 from Likiery\n",
            "Downloaded 0 for page 9 from Likiery\n",
            "Downloaded 20 for page 9 from Likiery\n",
            "Downloaded 0 for page 10 from Likiery\n",
            "Downloaded 20 for page 10 from Likiery\n",
            "Downloaded 0 for page 1 from Whiskey-amerykanska\n",
            "Downloaded 20 for page 1 from Whiskey-amerykanska\n",
            "Downloaded 0 for page 2 from Whiskey-amerykanska\n",
            "Fail\n",
            "Downloaded 20 for page 2 from Whiskey-amerykanska\n",
            "Downloaded 0 for page 3 from Whiskey-amerykanska\n",
            "Downloaded 20 for page 3 from Whiskey-amerykanska\n",
            "Downloaded 0 for page 4 from Whiskey-amerykanska\n",
            "Downloaded 20 for page 4 from Whiskey-amerykanska\n",
            "Downloaded 0 for page 5 from Whiskey-amerykanska\n",
            "Downloaded 20 for page 5 from Whiskey-amerykanska\n",
            "Downloaded 0 for page 6 from Whiskey-amerykanska\n",
            "Downloaded 20 for page 6 from Whiskey-amerykanska\n",
            "Downloaded 0 for page 7 from Whiskey-amerykanska\n",
            "Downloaded 20 for page 7 from Whiskey-amerykanska\n",
            "Downloaded 0 for page 8 from Whiskey-amerykanska\n",
            "Downloaded 20 for page 8 from Whiskey-amerykanska\n",
            "Downloaded 0 for page 9 from Whiskey-amerykanska\n",
            "Downloaded 20 for page 9 from Whiskey-amerykanska\n",
            "Downloaded 0 for page 10 from Whiskey-amerykanska\n",
            "Downloaded 20 for page 10 from Whiskey-amerykanska\n"
          ]
        }
      ]
    },
    {
      "cell_type": "markdown",
      "source": [
        "## Train Split"
      ],
      "metadata": {
        "id": "aDkS0k6KgION"
      }
    },
    {
      "cell_type": "code",
      "source": [
        "['Gin', 'Mezcal-Sotol-Tequila', 'Wodki-Okowity-Nalewki', 'Rum', 'Likiery', 'Whiskey-amerykanska']"
      ],
      "metadata": {
        "colab": {
          "base_uri": "https://localhost:8080/"
        },
        "id": "hj363TnbsZH2",
        "outputId": "39c60c3b-ae4c-44af-aa08-0f0ff4ff3d62"
      },
      "execution_count": null,
      "outputs": [
        {
          "output_type": "execute_result",
          "data": {
            "text/plain": [
              "['Gin',\n",
              " 'Mezcal-Sotol-Tequila',\n",
              " 'Wodki-Okowity-Nalewki',\n",
              " 'Rum',\n",
              " 'Likiery',\n",
              " 'Whiskey-amerykanska']"
            ]
          },
          "metadata": {},
          "execution_count": 209
        }
      ]
    },
    {
      "cell_type": "code",
      "source": [
        "#data_path = 'drive/MyDrive/vision_alko_project/data'\n",
        "#os.makedirs(data_path + '/test', exist_ok=True)\n",
        "#test_size = 0.2\n",
        "\n",
        "#for subcategory in ['Gin', 'Mezcal-Sotol-Tequila', 'Wodki-Okowity-Nalewki', 'Rum', 'Likiery', 'Whiskey-amerykanska']:\n",
        " # os.makedirs(data_path + '/test/' + subcategory, exist_ok=True)\n",
        "  #file_list = os.listdir(data_path + '/train/' + subcategory)\n",
        "  #number_of_samples = int(len(file_list) * test_size)\n",
        "  #for file_name in random.sample(file_list, number_of_samples):\n",
        "   # os.rename(data_path + '/train/' + subcategory + '/' + file_name,\n",
        "    #          data_path + '/test/' + subcategory + '/' + file_name)"
      ],
      "metadata": {
        "id": "UDB31u_NecX4"
      },
      "execution_count": null,
      "outputs": []
    },
    {
      "cell_type": "code",
      "source": [
        "len(os.listdir(data_path + '/train/Gin'))"
      ],
      "metadata": {
        "colab": {
          "base_uri": "https://localhost:8080/"
        },
        "id": "DCr8qZXxu7w5",
        "outputId": "445a441a-6857-457a-fa0a-c108f958ec75"
      },
      "execution_count": null,
      "outputs": [
        {
          "output_type": "execute_result",
          "data": {
            "text/plain": [
              "256"
            ]
          },
          "metadata": {},
          "execution_count": 211
        }
      ]
    },
    {
      "cell_type": "code",
      "source": [
        "len(os.listdir(data_path + '/test/Gin'))"
      ],
      "metadata": {
        "colab": {
          "base_uri": "https://localhost:8080/"
        },
        "id": "wHrOrDd_vDdx",
        "outputId": "048f5ef4-9130-4e2f-a224-d6e8e6a64d66"
      },
      "execution_count": null,
      "outputs": [
        {
          "output_type": "execute_result",
          "data": {
            "text/plain": [
              "64"
            ]
          },
          "metadata": {},
          "execution_count": 212
        }
      ]
    },
    {
      "cell_type": "markdown",
      "source": [
        "# MODEL"
      ],
      "metadata": {
        "id": "ysZknB_Mgnhn"
      }
    },
    {
      "cell_type": "markdown",
      "source": [
        "## Train and Val"
      ],
      "metadata": {
        "id": "iDIln2ctF2iR"
      }
    },
    {
      "cell_type": "code",
      "source": [
        "data_path = 'drive/MyDrive/vision_project/data'\n",
        "\n",
        "batch_size = 32\n",
        "img_height = 128\n",
        "img_width = 128"
      ],
      "metadata": {
        "id": "_fCROyv9jYiP"
      },
      "execution_count": null,
      "outputs": []
    },
    {
      "cell_type": "code",
      "source": [
        "train_ds = keras.utils.image_dataset_from_directory(\n",
        "    data_path + '/train',\n",
        "    labels='inferred',\n",
        "    validation_split = 0.2,\n",
        "    seed = 110,\n",
        "    subset='training',\n",
        "    image_size = (img_height, img_width),\n",
        "    batch_size = batch_size,\n",
        "    label_mode = 'categorical'\n",
        ")\n",
        "\n",
        "val_ds = keras.utils.image_dataset_from_directory(\n",
        "    data_path + '/train',\n",
        "    labels='inferred',\n",
        "    validation_split = 0.2,\n",
        "    seed = 110,\n",
        "    subset='validation',\n",
        "    image_size = (img_height, img_width),\n",
        "    batch_size = batch_size,\n",
        "    label_mode = 'categorical'\n",
        ")\n",
        "\n",
        "test_ds = keras.utils.image_dataset_from_directory(\n",
        "    data_path + '/test',\n",
        "    labels='inferred',\n",
        "    validation_split = 0.5,\n",
        "    seed = 110,\n",
        "    subset='both',\n",
        "    image_size = (img_height, img_width),\n",
        "    batch_size = batch_size,\n",
        "    label_mode = 'categorical'\n",
        ")"
      ],
      "metadata": {
        "colab": {
          "base_uri": "https://localhost:8080/"
        },
        "id": "p52p5UK0juIY",
        "outputId": "454bc6cd-b0b2-4a0d-ec6b-6620c44e7412"
      },
      "execution_count": null,
      "outputs": [
        {
          "output_type": "stream",
          "name": "stdout",
          "text": [
            "Found 2561 files belonging to 6 classes.\n",
            "Using 2049 files for training.\n",
            "Found 2561 files belonging to 6 classes.\n",
            "Using 512 files for validation.\n",
            "Found 575 files belonging to 6 classes.\n",
            "Using 288 files for training.\n",
            "Using 287 files for validation.\n"
          ]
        }
      ]
    },
    {
      "cell_type": "markdown",
      "source": [
        "### Data integrity check"
      ],
      "metadata": {
        "id": "Pkrr9Mz0O4Ti"
      }
    },
    {
      "cell_type": "code",
      "source": [
        "from pathlib import Path\n",
        "import imghdr\n",
        "\n",
        "data_dir = \"drive/MyDrive/vision_project/data\"\n",
        "image_extensions = [\".png\", \".jpg\"]  \n",
        "\n",
        "img_type_accepted_by_tf = [\"bmp\", \"gif\", \"jpeg\", \"png\"]\n",
        "for filepath in Path(data_dir).rglob(\"*\"):\n",
        "    if filepath.suffix.lower() in image_extensions:\n",
        "        img_type = imghdr.what(filepath)\n",
        "        if img_type is None:\n",
        "            print(f\"{filepath} is not an image\")\n",
        "        elif img_type not in img_type_accepted_by_tf:\n",
        "            print(f\"{filepath} is a {img_type}, not accepted by TensorFlow\")"
      ],
      "metadata": {
        "colab": {
          "base_uri": "https://localhost:8080/",
          "height": 356
        },
        "id": "8ATv6lZSNP54",
        "outputId": "f293beca-d4e4-47db-eb74-56c84daf7e12"
      },
      "execution_count": null,
      "outputs": [
        {
          "output_type": "error",
          "ename": "KeyboardInterrupt",
          "evalue": "ignored",
          "traceback": [
            "\u001b[0;31m---------------------------------------------------------------------------\u001b[0m",
            "\u001b[0;31mKeyboardInterrupt\u001b[0m                         Traceback (most recent call last)",
            "\u001b[0;32m<ipython-input-7-56c6c6a85517>\u001b[0m in \u001b[0;36m<cell line: 8>\u001b[0;34m()\u001b[0m\n\u001b[1;32m      8\u001b[0m \u001b[0;32mfor\u001b[0m \u001b[0mfilepath\u001b[0m \u001b[0;32min\u001b[0m \u001b[0mPath\u001b[0m\u001b[0;34m(\u001b[0m\u001b[0mdata_dir\u001b[0m\u001b[0;34m)\u001b[0m\u001b[0;34m.\u001b[0m\u001b[0mrglob\u001b[0m\u001b[0;34m(\u001b[0m\u001b[0;34m\"*\"\u001b[0m\u001b[0;34m)\u001b[0m\u001b[0;34m:\u001b[0m\u001b[0;34m\u001b[0m\u001b[0;34m\u001b[0m\u001b[0m\n\u001b[1;32m      9\u001b[0m     \u001b[0;32mif\u001b[0m \u001b[0mfilepath\u001b[0m\u001b[0;34m.\u001b[0m\u001b[0msuffix\u001b[0m\u001b[0;34m.\u001b[0m\u001b[0mlower\u001b[0m\u001b[0;34m(\u001b[0m\u001b[0;34m)\u001b[0m \u001b[0;32min\u001b[0m \u001b[0mimage_extensions\u001b[0m\u001b[0;34m:\u001b[0m\u001b[0;34m\u001b[0m\u001b[0;34m\u001b[0m\u001b[0m\n\u001b[0;32m---> 10\u001b[0;31m         \u001b[0mimg_type\u001b[0m \u001b[0;34m=\u001b[0m \u001b[0mimghdr\u001b[0m\u001b[0;34m.\u001b[0m\u001b[0mwhat\u001b[0m\u001b[0;34m(\u001b[0m\u001b[0mfilepath\u001b[0m\u001b[0;34m)\u001b[0m\u001b[0;34m\u001b[0m\u001b[0;34m\u001b[0m\u001b[0m\n\u001b[0m\u001b[1;32m     11\u001b[0m         \u001b[0;32mif\u001b[0m \u001b[0mimg_type\u001b[0m \u001b[0;32mis\u001b[0m \u001b[0;32mNone\u001b[0m\u001b[0;34m:\u001b[0m\u001b[0;34m\u001b[0m\u001b[0;34m\u001b[0m\u001b[0m\n\u001b[1;32m     12\u001b[0m             \u001b[0mprint\u001b[0m\u001b[0;34m(\u001b[0m\u001b[0;34mf\"{filepath} is not an image\"\u001b[0m\u001b[0;34m)\u001b[0m\u001b[0;34m\u001b[0m\u001b[0;34m\u001b[0m\u001b[0m\n",
            "\u001b[0;32m/usr/lib/python3.10/imghdr.py\u001b[0m in \u001b[0;36mwhat\u001b[0;34m(file, h)\u001b[0m\n\u001b[1;32m     14\u001b[0m         \u001b[0;32mif\u001b[0m \u001b[0mh\u001b[0m \u001b[0;32mis\u001b[0m \u001b[0;32mNone\u001b[0m\u001b[0;34m:\u001b[0m\u001b[0;34m\u001b[0m\u001b[0;34m\u001b[0m\u001b[0m\n\u001b[1;32m     15\u001b[0m             \u001b[0;32mif\u001b[0m \u001b[0misinstance\u001b[0m\u001b[0;34m(\u001b[0m\u001b[0mfile\u001b[0m\u001b[0;34m,\u001b[0m \u001b[0;34m(\u001b[0m\u001b[0mstr\u001b[0m\u001b[0;34m,\u001b[0m \u001b[0mPathLike\u001b[0m\u001b[0;34m)\u001b[0m\u001b[0;34m)\u001b[0m\u001b[0;34m:\u001b[0m\u001b[0;34m\u001b[0m\u001b[0;34m\u001b[0m\u001b[0m\n\u001b[0;32m---> 16\u001b[0;31m                 \u001b[0mf\u001b[0m \u001b[0;34m=\u001b[0m \u001b[0mopen\u001b[0m\u001b[0;34m(\u001b[0m\u001b[0mfile\u001b[0m\u001b[0;34m,\u001b[0m \u001b[0;34m'rb'\u001b[0m\u001b[0;34m)\u001b[0m\u001b[0;34m\u001b[0m\u001b[0;34m\u001b[0m\u001b[0m\n\u001b[0m\u001b[1;32m     17\u001b[0m                 \u001b[0mh\u001b[0m \u001b[0;34m=\u001b[0m \u001b[0mf\u001b[0m\u001b[0;34m.\u001b[0m\u001b[0mread\u001b[0m\u001b[0;34m(\u001b[0m\u001b[0;36m32\u001b[0m\u001b[0;34m)\u001b[0m\u001b[0;34m\u001b[0m\u001b[0;34m\u001b[0m\u001b[0m\n\u001b[1;32m     18\u001b[0m             \u001b[0;32melse\u001b[0m\u001b[0;34m:\u001b[0m\u001b[0;34m\u001b[0m\u001b[0;34m\u001b[0m\u001b[0m\n",
            "\u001b[0;31mKeyboardInterrupt\u001b[0m: "
          ]
        }
      ]
    },
    {
      "cell_type": "code",
      "source": [
        "train_ds.class_names"
      ],
      "metadata": {
        "id": "FyzqMt-Nkq60"
      },
      "execution_count": null,
      "outputs": []
    },
    {
      "cell_type": "code",
      "source": [
        "for image, label in train_ds:\n",
        "  print(image.shape)\n",
        "  print(label.shape)"
      ],
      "metadata": {
        "id": "pgTGc3LHsrL8"
      },
      "execution_count": null,
      "outputs": []
    },
    {
      "cell_type": "markdown",
      "source": [
        "## Simple Model"
      ],
      "metadata": {
        "id": "mpYz43wDp5rQ"
      }
    },
    {
      "cell_type": "code",
      "source": [
        "model = Sequential()\n",
        "model.add(layers.Rescaling(1./255))\n",
        "\n",
        "model.add(layers.Conv2D(32,\n",
        "                        (3,3),\n",
        "                        input_shape = (img_width, img_height, 3),\n",
        "                        padding = 'same',\n",
        "                        activation = 'relu'))\n",
        "model.add(layers.MaxPool2D((2,2)))\n",
        "\n",
        "model.add(layers.Conv2D(16,\n",
        "                        (3,3),\n",
        "                        padding = 'same',\n",
        "                        activation = 'relu'))\n",
        "model.add(layers.MaxPool2D((2,2)))\n",
        "\n",
        "\n",
        "model.add(layers.Flatten())\n",
        "\n",
        "model.add(layers.Dense(128, activation='relu'))\n",
        "\n",
        "\n",
        "model.add(layers.Dense(6, activation='softmax'))"
      ],
      "metadata": {
        "id": "Qbjn4vjlqEwm"
      },
      "execution_count": null,
      "outputs": []
    },
    {
      "cell_type": "code",
      "source": [
        "es = keras.callbacks.EarlyStopping(monitor='val_accuracy', patience=5, restore_best_weights=True)\n",
        "learning_rate=0.01"
      ],
      "metadata": {
        "id": "orsHMYliRkba"
      },
      "execution_count": null,
      "outputs": []
    },
    {
      "cell_type": "code",
      "source": [
        "model.compile(optimizer= keras.optimizers.Adam(learning_rate=learning_rate),\n",
        "              loss = 'categorical_crossentropy',\n",
        "              metrics = ['accuracy'])"
      ],
      "metadata": {
        "id": "zxvMQ-OarY-j"
      },
      "execution_count": null,
      "outputs": []
    },
    {
      "cell_type": "code",
      "source": [
        "history = model.fit(\n",
        "    train_ds,\n",
        "    validation_data = val_ds,\n",
        "    epochs = 100,\n",
        "    batch_size = batch_size,\n",
        "    callbacks=[es]\n",
        ")"
      ],
      "metadata": {
        "colab": {
          "base_uri": "https://localhost:8080/"
        },
        "id": "ACwRkME1rmt6",
        "outputId": "551d6535-fb90-45b4-ca48-6d3943f4e475"
      },
      "execution_count": null,
      "outputs": [
        {
          "output_type": "stream",
          "name": "stdout",
          "text": [
            "Epoch 1/100\n",
            "65/65 [==============================] - 4s 59ms/step - loss: 0.4372 - accuracy: 0.8429 - val_loss: 2.2737 - val_accuracy: 0.5254\n",
            "Epoch 2/100\n",
            "65/65 [==============================] - 5s 76ms/step - loss: 0.2986 - accuracy: 0.8936 - val_loss: 2.8369 - val_accuracy: 0.5039\n",
            "Epoch 3/100\n",
            "65/65 [==============================] - 4s 58ms/step - loss: 0.2291 - accuracy: 0.9351 - val_loss: 2.8992 - val_accuracy: 0.5059\n",
            "Epoch 4/100\n",
            "65/65 [==============================] - 4s 59ms/step - loss: 0.4357 - accuracy: 0.8438 - val_loss: 3.7567 - val_accuracy: 0.4980\n",
            "Epoch 5/100\n",
            "65/65 [==============================] - 5s 76ms/step - loss: 0.2013 - accuracy: 0.9341 - val_loss: 3.7531 - val_accuracy: 0.4844\n",
            "Epoch 6/100\n",
            "65/65 [==============================] - 4s 58ms/step - loss: 0.1296 - accuracy: 0.9639 - val_loss: 4.3010 - val_accuracy: 0.4941\n"
          ]
        }
      ]
    },
    {
      "cell_type": "markdown",
      "source": [
        "## Model with BN and Dropout"
      ],
      "metadata": {
        "id": "1t2SdVMEZfaK"
      }
    },
    {
      "cell_type": "code",
      "source": [
        "model = Sequential()\n",
        "model.add(layers.Rescaling(1./255))\n",
        "\n",
        "model.add(layers.Conv2D(32,\n",
        "                        (3,3),\n",
        "                        input_shape = (img_width, img_height, 3),\n",
        "                        padding = 'same',\n",
        "                        activation = 'relu'))\n",
        "model.add(layers.BatchNormalization())\n",
        "\n",
        "\n",
        "model.add(layers.Conv2D(64,\n",
        "                        (3,3),\n",
        "                        padding = 'same',\n",
        "                        activation = 'relu'))\n",
        "model.add(layers.BatchNormalization())\n",
        "model.add(layers.MaxPooling2D((2,2)))\n",
        "model.add(layers.Dropout(rate=0.2))\n",
        "\n",
        "\n",
        "\n",
        "model.add(layers.Conv2D(64,\n",
        "                        (3,3),\n",
        "                        input_shape = (img_width, img_height, 3),\n",
        "                        padding = 'same',\n",
        "                        activation = 'relu'))\n",
        "model.add(layers.BatchNormalization())\n",
        "model.add(layers.MaxPool2D((2,2)))\n",
        "model.add(layers.Dropout(rate=0.2))\n",
        "\n",
        "model.add(layers.Conv2D(128,\n",
        "                        (3,3),\n",
        "                        input_shape = (img_width, img_height, 3),\n",
        "                        padding = 'same',\n",
        "                        activation = 'relu'))\n",
        "model.add(layers.BatchNormalization())\n",
        "model.add(layers.MaxPool2D((2,2)))\n",
        "model.add(layers.Dropout(rate=0.3))\n",
        "\n",
        "model.add(layers.Conv2D(128,\n",
        "                        (3,3),\n",
        "                        input_shape = (img_width, img_height, 3),\n",
        "                        padding = 'same',\n",
        "                        activation = 'relu'))\n",
        "model.add(layers.BatchNormalization())\n",
        "model.add(layers.MaxPool2D((2,2)))\n",
        "model.add(layers.Dropout(rate=0.3))\n",
        "\n",
        "\n",
        "model.add(layers.Flatten())\n",
        "\n",
        "model.add(layers.Dense(128, activation='relu'))\n",
        "model.add(layers.BatchNormalization())\n",
        "\n",
        "model.add(layers.Dense(64, activation='relu'))\n",
        "model.add(layers.BatchNormalization())\n",
        "model.add(layers.Dropout(rate=0.5))\n",
        "\n",
        "model.add(layers.Dense(32, activation='relu'))\n",
        "model.add(layers.BatchNormalization())\n",
        "model.add(layers.Dropout(rate=0.5))\n",
        "\n",
        "model.add(layers.Dense(6, activation='softmax'))"
      ],
      "metadata": {
        "id": "G5_f-UEpZtcI"
      },
      "execution_count": null,
      "outputs": []
    },
    {
      "cell_type": "code",
      "source": [
        "es = keras.callbacks.EarlyStopping(monitor='val_accuracy', patience=10, restore_best_weights=True)\n",
        "learning_rate=0.001\n",
        "\n",
        "model.compile(optimizer= keras.optimizers.Adam(learning_rate=learning_rate),\n",
        "              loss = 'categorical_crossentropy',\n",
        "              metrics = ['accuracy'])"
      ],
      "metadata": {
        "id": "GyEhQmEgc5X5"
      },
      "execution_count": null,
      "outputs": []
    },
    {
      "cell_type": "code",
      "source": [
        "history = model.fit(\n",
        "    train_ds,\n",
        "    validation_data = val_ds,\n",
        "    epochs = 100,\n",
        "    batch_size = batch_size,\n",
        "    callbacks=[es]\n",
        ")"
      ],
      "metadata": {
        "colab": {
          "base_uri": "https://localhost:8080/"
        },
        "id": "lCsrI-_KdEdU",
        "outputId": "d4260292-0e24-455f-8ebc-d70c139d5f66"
      },
      "execution_count": null,
      "outputs": [
        {
          "output_type": "stream",
          "name": "stdout",
          "text": [
            "Epoch 1/100\n",
            "65/65 [==============================] - 16s 112ms/step - loss: 2.4302 - accuracy: 0.2411 - val_loss: 3.2760 - val_accuracy: 0.1035\n",
            "Epoch 2/100\n",
            "65/65 [==============================] - 7s 102ms/step - loss: 1.9891 - accuracy: 0.3241 - val_loss: 2.9798 - val_accuracy: 0.1035\n",
            "Epoch 3/100\n",
            "65/65 [==============================] - 6s 93ms/step - loss: 1.7937 - accuracy: 0.3553 - val_loss: 2.5390 - val_accuracy: 0.1387\n",
            "Epoch 4/100\n",
            "65/65 [==============================] - 7s 104ms/step - loss: 1.7354 - accuracy: 0.3660 - val_loss: 3.8048 - val_accuracy: 0.0684\n",
            "Epoch 5/100\n",
            "65/65 [==============================] - 6s 93ms/step - loss: 1.6958 - accuracy: 0.3812 - val_loss: 3.0735 - val_accuracy: 0.0684\n",
            "Epoch 6/100\n",
            "65/65 [==============================] - 7s 99ms/step - loss: 1.6002 - accuracy: 0.3929 - val_loss: 5.9305 - val_accuracy: 0.0684\n",
            "Epoch 7/100\n",
            "65/65 [==============================] - 6s 93ms/step - loss: 1.5658 - accuracy: 0.3973 - val_loss: 2.3161 - val_accuracy: 0.1934\n",
            "Epoch 8/100\n",
            "65/65 [==============================] - 7s 99ms/step - loss: 1.4673 - accuracy: 0.4446 - val_loss: 2.5655 - val_accuracy: 0.2500\n",
            "Epoch 9/100\n",
            "65/65 [==============================] - 6s 93ms/step - loss: 1.4272 - accuracy: 0.4431 - val_loss: 3.3952 - val_accuracy: 0.2656\n",
            "Epoch 10/100\n",
            "65/65 [==============================] - 7s 99ms/step - loss: 1.4131 - accuracy: 0.4495 - val_loss: 3.1073 - val_accuracy: 0.2852\n",
            "Epoch 11/100\n",
            "65/65 [==============================] - 6s 93ms/step - loss: 1.3819 - accuracy: 0.4651 - val_loss: 1.5932 - val_accuracy: 0.4473\n",
            "Epoch 12/100\n",
            "65/65 [==============================] - 7s 98ms/step - loss: 1.3791 - accuracy: 0.4695 - val_loss: 1.6595 - val_accuracy: 0.3984\n",
            "Epoch 13/100\n",
            "65/65 [==============================] - 6s 93ms/step - loss: 1.3293 - accuracy: 0.4924 - val_loss: 1.7370 - val_accuracy: 0.3457\n",
            "Epoch 14/100\n",
            "65/65 [==============================] - 7s 101ms/step - loss: 1.3320 - accuracy: 0.4700 - val_loss: 4.2285 - val_accuracy: 0.2520\n",
            "Epoch 15/100\n",
            "65/65 [==============================] - 6s 93ms/step - loss: 1.2930 - accuracy: 0.4993 - val_loss: 1.3915 - val_accuracy: 0.4609\n",
            "Epoch 16/100\n",
            "65/65 [==============================] - 7s 99ms/step - loss: 1.2797 - accuracy: 0.5071 - val_loss: 1.3848 - val_accuracy: 0.5156\n",
            "Epoch 17/100\n",
            "65/65 [==============================] - 6s 92ms/step - loss: 1.2395 - accuracy: 0.5281 - val_loss: 6.2024 - val_accuracy: 0.3008\n",
            "Epoch 18/100\n",
            "65/65 [==============================] - 7s 99ms/step - loss: 1.1951 - accuracy: 0.5486 - val_loss: 1.3349 - val_accuracy: 0.4746\n",
            "Epoch 19/100\n",
            "65/65 [==============================] - 6s 93ms/step - loss: 1.1965 - accuracy: 0.5403 - val_loss: 1.2532 - val_accuracy: 0.5234\n",
            "Epoch 20/100\n",
            "65/65 [==============================] - 7s 101ms/step - loss: 1.1822 - accuracy: 0.5442 - val_loss: 1.4638 - val_accuracy: 0.4609\n",
            "Epoch 21/100\n",
            "65/65 [==============================] - 6s 93ms/step - loss: 1.1406 - accuracy: 0.5534 - val_loss: 1.5137 - val_accuracy: 0.4395\n",
            "Epoch 22/100\n",
            "65/65 [==============================] - 7s 100ms/step - loss: 1.1363 - accuracy: 0.5554 - val_loss: 1.3197 - val_accuracy: 0.5117\n",
            "Epoch 23/100\n",
            "65/65 [==============================] - 6s 92ms/step - loss: 1.1037 - accuracy: 0.5910 - val_loss: 1.5210 - val_accuracy: 0.4551\n",
            "Epoch 24/100\n",
            "65/65 [==============================] - 7s 99ms/step - loss: 1.0717 - accuracy: 0.5988 - val_loss: 1.1303 - val_accuracy: 0.6035\n",
            "Epoch 25/100\n",
            "65/65 [==============================] - 6s 92ms/step - loss: 1.0403 - accuracy: 0.6022 - val_loss: 1.2127 - val_accuracy: 0.5215\n",
            "Epoch 26/100\n",
            "65/65 [==============================] - 7s 99ms/step - loss: 1.0199 - accuracy: 0.6369 - val_loss: 1.2524 - val_accuracy: 0.5410\n",
            "Epoch 27/100\n",
            "65/65 [==============================] - 6s 93ms/step - loss: 0.9761 - accuracy: 0.6535 - val_loss: 1.4188 - val_accuracy: 0.4863\n",
            "Epoch 28/100\n",
            "65/65 [==============================] - 7s 101ms/step - loss: 0.9890 - accuracy: 0.6432 - val_loss: 1.4592 - val_accuracy: 0.4961\n",
            "Epoch 29/100\n",
            "65/65 [==============================] - 6s 93ms/step - loss: 0.9577 - accuracy: 0.6476 - val_loss: 1.5287 - val_accuracy: 0.4316\n",
            "Epoch 30/100\n",
            "65/65 [==============================] - 7s 98ms/step - loss: 0.9334 - accuracy: 0.6676 - val_loss: 1.2993 - val_accuracy: 0.5449\n",
            "Epoch 31/100\n",
            "65/65 [==============================] - 6s 93ms/step - loss: 0.9293 - accuracy: 0.6637 - val_loss: 1.3874 - val_accuracy: 0.5469\n",
            "Epoch 32/100\n",
            "65/65 [==============================] - 7s 98ms/step - loss: 0.9557 - accuracy: 0.6476 - val_loss: 1.7317 - val_accuracy: 0.4609\n",
            "Epoch 33/100\n",
            "65/65 [==============================] - 7s 99ms/step - loss: 0.9011 - accuracy: 0.6823 - val_loss: 1.1454 - val_accuracy: 0.5957\n",
            "Epoch 34/100\n",
            "65/65 [==============================] - 7s 93ms/step - loss: 0.7779 - accuracy: 0.7355 - val_loss: 3.7746 - val_accuracy: 0.4336\n"
          ]
        }
      ]
    },
    {
      "cell_type": "markdown",
      "source": [
        "## Model with more layers"
      ],
      "metadata": {
        "id": "ZWEKUESr4jQh"
      }
    },
    {
      "cell_type": "code",
      "source": [
        "model = Sequential()\n",
        "model.add(layers.Rescaling(1./255))\n",
        "\n",
        "model.add(layers.Conv2D(32,\n",
        "                        (3,3),\n",
        "                        input_shape = (img_width, img_height, 3),\n",
        "                        padding = 'same',\n",
        "                        activation = 'relu'))\n",
        "model.add(layers.BatchNormalization())\n",
        "\n",
        "\n",
        "model.add(layers.Conv2D(32,\n",
        "                        (3,3),\n",
        "                        padding = 'same',\n",
        "                        activation = 'relu'))\n",
        "model.add(layers.BatchNormalization())\n",
        "model.add(layers.MaxPooling2D((2,2)))\n",
        "\n",
        "\n",
        "model.add(layers.Conv2D(64,\n",
        "                        (3,3),\n",
        "                        input_shape = (img_width, img_height, 3),\n",
        "                        padding = 'same',\n",
        "                        activation = 'relu'))\n",
        "model.add(layers.BatchNormalization())\n",
        "model.add(layers.MaxPool2D((2,2)))\n",
        "model.add(layers.Dropout(rate=0.2))\n",
        "\n",
        "model.add(layers.Conv2D(64,\n",
        "                        (3,3),\n",
        "                        input_shape = (img_width, img_height, 3),\n",
        "                        padding = 'same',\n",
        "                        activation = 'relu'))\n",
        "model.add(layers.BatchNormalization())\n",
        "model.add(layers.MaxPool2D((2,2)))\n",
        "model.add(layers.Dropout(rate=0.2))\n",
        "\n",
        "model.add(layers.Conv2D(128,\n",
        "                        (3,3),\n",
        "                        input_shape = (img_width, img_height, 3),\n",
        "                        padding = 'same',\n",
        "                        activation = 'relu'))\n",
        "model.add(layers.BatchNormalization())\n",
        "model.add(layers.MaxPool2D((2,2)))\n",
        "model.add(layers.Dropout(rate=0.3))\n",
        "\n",
        "\n",
        "model.add(layers.Conv2D(128,\n",
        "                        (3,3),\n",
        "                        input_shape = (img_width, img_height, 3),\n",
        "                        padding = 'same',\n",
        "                        activation = 'relu'))\n",
        "model.add(layers.BatchNormalization())\n",
        "model.add(layers.MaxPool2D((2,2)))\n",
        "model.add(layers.Dropout(rate=0.4))\n",
        "\n",
        "\n",
        "model.add(layers.Flatten())\n",
        "\n",
        "model.add(layers.Dense(256, activation='relu'))\n",
        "model.add(layers.BatchNormalization())\n",
        "model.add(layers.Dropout(rate=0.5))\n",
        "\n",
        "model.add(layers.Dense(256, activation='relu'))\n",
        "model.add(layers.BatchNormalization())\n",
        "model.add(layers.Dropout(rate=0.5))\n",
        "\n",
        "model.add(layers.Dense(128, activation='relu'))\n",
        "model.add(layers.BatchNormalization())\n",
        "\n",
        "\n",
        "model.add(layers.Dense(6, activation='softmax'))"
      ],
      "metadata": {
        "id": "uIAVCoeD4loU"
      },
      "execution_count": null,
      "outputs": []
    },
    {
      "cell_type": "code",
      "source": [
        "es = keras.callbacks.EarlyStopping(monitor='val_accuracy', patience=10, restore_best_weights=True)\n",
        "learning_rate=0.003\n",
        "\n",
        "model.compile(optimizer= keras.optimizers.Adam(learning_rate=learning_rate),\n",
        "              loss = 'categorical_crossentropy',\n",
        "              metrics = ['accuracy'])"
      ],
      "metadata": {
        "id": "NyiNoWYN4o-L"
      },
      "execution_count": null,
      "outputs": []
    },
    {
      "cell_type": "code",
      "source": [
        "history = model.fit(\n",
        "    train_ds,\n",
        "    validation_data = val_ds,\n",
        "    epochs = 100,\n",
        "    batch_size = batch_size,\n",
        "    callbacks=[es]\n",
        ")"
      ],
      "metadata": {
        "colab": {
          "base_uri": "https://localhost:8080/"
        },
        "id": "sFigVscv4til",
        "outputId": "2d87ca38-c625-4618-9071-0f868dafdd55"
      },
      "execution_count": null,
      "outputs": [
        {
          "output_type": "stream",
          "name": "stdout",
          "text": [
            "Epoch 1/100\n",
            "65/65 [==============================] - 13s 75ms/step - loss: 1.9362 - accuracy: 0.3109 - val_loss: 10.4511 - val_accuracy: 0.3652\n",
            "Epoch 2/100\n",
            "65/65 [==============================] - 5s 78ms/step - loss: 1.5799 - accuracy: 0.3982 - val_loss: 4.2981 - val_accuracy: 0.1387\n",
            "Epoch 3/100\n",
            "65/65 [==============================] - 5s 68ms/step - loss: 1.5102 - accuracy: 0.4178 - val_loss: 4.2448 - val_accuracy: 0.1035\n",
            "Epoch 4/100\n",
            "65/65 [==============================] - 6s 83ms/step - loss: 1.4331 - accuracy: 0.4285 - val_loss: 3.3879 - val_accuracy: 0.1367\n",
            "Epoch 5/100\n",
            "65/65 [==============================] - 5s 69ms/step - loss: 1.3808 - accuracy: 0.4427 - val_loss: 2.8504 - val_accuracy: 0.1387\n",
            "Epoch 6/100\n",
            "65/65 [==============================] - 5s 77ms/step - loss: 1.3526 - accuracy: 0.4666 - val_loss: 2.2375 - val_accuracy: 0.1445\n",
            "Epoch 7/100\n",
            "65/65 [==============================] - 5s 79ms/step - loss: 1.3598 - accuracy: 0.4534 - val_loss: 1.9467 - val_accuracy: 0.2969\n",
            "Epoch 8/100\n",
            "65/65 [==============================] - 6s 81ms/step - loss: 1.3276 - accuracy: 0.4773 - val_loss: 2.4170 - val_accuracy: 0.1074\n",
            "Epoch 9/100\n",
            "65/65 [==============================] - 5s 70ms/step - loss: 1.3250 - accuracy: 0.4802 - val_loss: 1.6105 - val_accuracy: 0.4102\n",
            "Epoch 10/100\n",
            "65/65 [==============================] - 6s 84ms/step - loss: 1.2988 - accuracy: 0.4954 - val_loss: 1.3290 - val_accuracy: 0.4844\n",
            "Epoch 11/100\n",
            "65/65 [==============================] - 5s 69ms/step - loss: 1.2937 - accuracy: 0.4817 - val_loss: 1.6717 - val_accuracy: 0.3828\n",
            "Epoch 12/100\n",
            "65/65 [==============================] - 6s 81ms/step - loss: 1.2845 - accuracy: 0.4934 - val_loss: 1.3493 - val_accuracy: 0.5078\n",
            "Epoch 13/100\n",
            "65/65 [==============================] - 5s 69ms/step - loss: 1.2652 - accuracy: 0.4968 - val_loss: 1.6411 - val_accuracy: 0.4258\n",
            "Epoch 14/100\n",
            "65/65 [==============================] - 6s 86ms/step - loss: 1.2458 - accuracy: 0.5051 - val_loss: 2.1126 - val_accuracy: 0.4180\n",
            "Epoch 15/100\n",
            "65/65 [==============================] - 5s 69ms/step - loss: 1.2326 - accuracy: 0.5266 - val_loss: 1.6871 - val_accuracy: 0.3145\n",
            "Epoch 16/100\n",
            "65/65 [==============================] - 5s 73ms/step - loss: 1.2123 - accuracy: 0.5373 - val_loss: 2.8001 - val_accuracy: 0.2500\n",
            "Epoch 17/100\n",
            "65/65 [==============================] - 6s 78ms/step - loss: 1.2042 - accuracy: 0.5354 - val_loss: 2.4160 - val_accuracy: 0.3164\n",
            "Epoch 18/100\n",
            "65/65 [==============================] - 5s 69ms/step - loss: 1.1947 - accuracy: 0.5398 - val_loss: 1.3826 - val_accuracy: 0.4941\n",
            "Epoch 19/100\n",
            "65/65 [==============================] - 6s 85ms/step - loss: 1.1935 - accuracy: 0.5432 - val_loss: 1.3611 - val_accuracy: 0.4980\n",
            "Epoch 20/100\n",
            "65/65 [==============================] - 5s 69ms/step - loss: 1.1413 - accuracy: 0.5632 - val_loss: 1.5096 - val_accuracy: 0.4434\n",
            "Epoch 21/100\n",
            "65/65 [==============================] - 6s 87ms/step - loss: 1.1740 - accuracy: 0.5564 - val_loss: 1.2793 - val_accuracy: 0.5645\n",
            "Epoch 22/100\n",
            "65/65 [==============================] - 5s 69ms/step - loss: 1.1097 - accuracy: 0.5759 - val_loss: 1.4069 - val_accuracy: 0.5254\n",
            "Epoch 23/100\n",
            "65/65 [==============================] - 5s 76ms/step - loss: 1.1281 - accuracy: 0.5730 - val_loss: 1.3023 - val_accuracy: 0.5098\n",
            "Epoch 24/100\n",
            "65/65 [==============================] - 5s 77ms/step - loss: 1.0992 - accuracy: 0.5700 - val_loss: 1.3707 - val_accuracy: 0.5195\n",
            "Epoch 25/100\n",
            "65/65 [==============================] - 5s 70ms/step - loss: 1.1136 - accuracy: 0.5896 - val_loss: 1.3706 - val_accuracy: 0.5703\n",
            "Epoch 26/100\n",
            "65/65 [==============================] - 6s 85ms/step - loss: 1.0826 - accuracy: 0.5798 - val_loss: 1.5923 - val_accuracy: 0.4473\n",
            "Epoch 27/100\n",
            "65/65 [==============================] - 5s 70ms/step - loss: 1.0197 - accuracy: 0.6066 - val_loss: 1.1553 - val_accuracy: 0.6016\n",
            "Epoch 28/100\n",
            "65/65 [==============================] - 5s 79ms/step - loss: 0.9949 - accuracy: 0.6266 - val_loss: 1.5936 - val_accuracy: 0.5000\n",
            "Epoch 29/100\n",
            "65/65 [==============================] - 6s 79ms/step - loss: 0.9914 - accuracy: 0.6262 - val_loss: 1.6682 - val_accuracy: 0.5000\n",
            "Epoch 30/100\n",
            "65/65 [==============================] - 5s 69ms/step - loss: 0.9690 - accuracy: 0.6354 - val_loss: 1.4959 - val_accuracy: 0.4863\n",
            "Epoch 31/100\n",
            "65/65 [==============================] - 6s 85ms/step - loss: 0.9490 - accuracy: 0.6457 - val_loss: 1.2262 - val_accuracy: 0.5645\n",
            "Epoch 32/100\n",
            "65/65 [==============================] - 5s 69ms/step - loss: 0.9312 - accuracy: 0.6657 - val_loss: 5.0564 - val_accuracy: 0.2520\n",
            "Epoch 33/100\n",
            "65/65 [==============================] - 5s 69ms/step - loss: 0.9310 - accuracy: 0.6403 - val_loss: 1.6239 - val_accuracy: 0.4707\n",
            "Epoch 34/100\n",
            "65/65 [==============================] - 6s 86ms/step - loss: 0.9098 - accuracy: 0.6525 - val_loss: 2.2136 - val_accuracy: 0.4277\n",
            "Epoch 35/100\n",
            "65/65 [==============================] - 5s 70ms/step - loss: 0.8990 - accuracy: 0.6652 - val_loss: 1.4077 - val_accuracy: 0.5059\n",
            "Epoch 36/100\n",
            "65/65 [==============================] - 5s 75ms/step - loss: 0.8804 - accuracy: 0.6735 - val_loss: 1.1484 - val_accuracy: 0.6113\n",
            "Epoch 37/100\n",
            "65/65 [==============================] - 5s 74ms/step - loss: 0.8354 - accuracy: 0.6916 - val_loss: 1.2512 - val_accuracy: 0.5664\n",
            "Epoch 38/100\n",
            "65/65 [==============================] - 5s 69ms/step - loss: 0.7872 - accuracy: 0.7062 - val_loss: 1.6649 - val_accuracy: 0.4570\n",
            "Epoch 39/100\n",
            "65/65 [==============================] - 6s 85ms/step - loss: 0.8043 - accuracy: 0.6969 - val_loss: 1.1915 - val_accuracy: 0.5898\n",
            "Epoch 40/100\n",
            "65/65 [==============================] - 5s 70ms/step - loss: 0.7693 - accuracy: 0.7218 - val_loss: 1.1679 - val_accuracy: 0.6152\n",
            "Epoch 41/100\n",
            "65/65 [==============================] - 5s 71ms/step - loss: 0.7407 - accuracy: 0.7233 - val_loss: 1.3459 - val_accuracy: 0.5820\n",
            "Epoch 42/100\n",
            "65/65 [==============================] - 6s 82ms/step - loss: 0.6849 - accuracy: 0.7423 - val_loss: 1.6595 - val_accuracy: 0.4883\n",
            "Epoch 43/100\n",
            "65/65 [==============================] - 5s 70ms/step - loss: 0.6922 - accuracy: 0.7408 - val_loss: 1.2312 - val_accuracy: 0.6211\n",
            "Epoch 44/100\n",
            "65/65 [==============================] - 6s 85ms/step - loss: 0.6270 - accuracy: 0.7633 - val_loss: 1.4229 - val_accuracy: 0.5410\n",
            "Epoch 45/100\n",
            "65/65 [==============================] - 5s 70ms/step - loss: 0.6565 - accuracy: 0.7653 - val_loss: 2.1200 - val_accuracy: 0.3867\n",
            "Epoch 46/100\n",
            "65/65 [==============================] - 6s 89ms/step - loss: 0.6606 - accuracy: 0.7540 - val_loss: 1.6506 - val_accuracy: 0.4902\n",
            "Epoch 47/100\n",
            "65/65 [==============================] - 5s 71ms/step - loss: 0.6464 - accuracy: 0.7623 - val_loss: 1.5686 - val_accuracy: 0.5352\n",
            "Epoch 48/100\n",
            "65/65 [==============================] - 5s 79ms/step - loss: 0.6088 - accuracy: 0.7804 - val_loss: 2.1474 - val_accuracy: 0.4434\n",
            "Epoch 49/100\n",
            "65/65 [==============================] - 5s 69ms/step - loss: 0.6020 - accuracy: 0.7823 - val_loss: 1.4756 - val_accuracy: 0.5605\n",
            "Epoch 50/100\n",
            "65/65 [==============================] - 6s 84ms/step - loss: 0.5907 - accuracy: 0.7882 - val_loss: 1.5136 - val_accuracy: 0.5430\n",
            "Epoch 51/100\n",
            "65/65 [==============================] - 5s 69ms/step - loss: 0.5386 - accuracy: 0.8053 - val_loss: 1.3106 - val_accuracy: 0.6230\n",
            "Epoch 52/100\n",
            "65/65 [==============================] - 5s 78ms/step - loss: 0.5569 - accuracy: 0.8019 - val_loss: 1.3436 - val_accuracy: 0.5801\n",
            "Epoch 53/100\n",
            "65/65 [==============================] - 5s 70ms/step - loss: 0.5388 - accuracy: 0.8019 - val_loss: 1.5178 - val_accuracy: 0.5723\n",
            "Epoch 54/100\n",
            "65/65 [==============================] - 6s 84ms/step - loss: 0.4970 - accuracy: 0.8126 - val_loss: 1.4288 - val_accuracy: 0.6113\n",
            "Epoch 55/100\n",
            "65/65 [==============================] - 5s 70ms/step - loss: 0.4690 - accuracy: 0.8331 - val_loss: 1.5997 - val_accuracy: 0.5586\n",
            "Epoch 56/100\n",
            "65/65 [==============================] - 5s 78ms/step - loss: 0.4878 - accuracy: 0.8194 - val_loss: 1.5432 - val_accuracy: 0.5781\n",
            "Epoch 57/100\n",
            "65/65 [==============================] - 6s 80ms/step - loss: 0.4761 - accuracy: 0.8336 - val_loss: 1.3941 - val_accuracy: 0.6445\n",
            "Epoch 58/100\n",
            "65/65 [==============================] - 5s 69ms/step - loss: 0.4978 - accuracy: 0.8258 - val_loss: 1.5174 - val_accuracy: 0.5859\n",
            "Epoch 59/100\n",
            "65/65 [==============================] - 6s 88ms/step - loss: 0.6000 - accuracy: 0.7823 - val_loss: 1.2550 - val_accuracy: 0.6230\n",
            "Epoch 60/100\n",
            "65/65 [==============================] - 5s 69ms/step - loss: 0.4719 - accuracy: 0.8394 - val_loss: 1.3993 - val_accuracy: 0.6270\n",
            "Epoch 61/100\n",
            "65/65 [==============================] - 5s 69ms/step - loss: 0.4962 - accuracy: 0.8145 - val_loss: 1.3467 - val_accuracy: 0.5977\n",
            "Epoch 62/100\n",
            "65/65 [==============================] - 6s 84ms/step - loss: 0.4863 - accuracy: 0.8341 - val_loss: 1.5115 - val_accuracy: 0.5840\n",
            "Epoch 63/100\n",
            "65/65 [==============================] - 5s 69ms/step - loss: 0.3958 - accuracy: 0.8560 - val_loss: 1.4998 - val_accuracy: 0.5977\n",
            "Epoch 64/100\n",
            "65/65 [==============================] - 6s 80ms/step - loss: 0.4068 - accuracy: 0.8555 - val_loss: 1.4943 - val_accuracy: 0.5898\n",
            "Epoch 65/100\n",
            "65/65 [==============================] - 5s 72ms/step - loss: 0.3797 - accuracy: 0.8658 - val_loss: 1.2575 - val_accuracy: 0.6484\n",
            "Epoch 66/100\n",
            "65/65 [==============================] - 6s 87ms/step - loss: 0.3607 - accuracy: 0.8760 - val_loss: 1.5226 - val_accuracy: 0.6074\n",
            "Epoch 67/100\n",
            "65/65 [==============================] - 5s 69ms/step - loss: 0.3678 - accuracy: 0.8687 - val_loss: 1.3836 - val_accuracy: 0.6641\n",
            "Epoch 68/100\n",
            "65/65 [==============================] - 5s 79ms/step - loss: 0.3294 - accuracy: 0.8863 - val_loss: 1.5950 - val_accuracy: 0.6074\n",
            "Epoch 69/100\n",
            "65/65 [==============================] - 5s 70ms/step - loss: 0.2943 - accuracy: 0.8951 - val_loss: 1.6093 - val_accuracy: 0.6230\n",
            "Epoch 70/100\n",
            "65/65 [==============================] - 6s 84ms/step - loss: 0.3062 - accuracy: 0.8965 - val_loss: 1.4543 - val_accuracy: 0.6309\n",
            "Epoch 71/100\n",
            "65/65 [==============================] - 5s 71ms/step - loss: 0.3253 - accuracy: 0.8858 - val_loss: 1.4213 - val_accuracy: 0.6582\n",
            "Epoch 72/100\n",
            "65/65 [==============================] - 5s 78ms/step - loss: 0.3084 - accuracy: 0.8956 - val_loss: 1.5318 - val_accuracy: 0.6211\n",
            "Epoch 73/100\n",
            "65/65 [==============================] - 6s 78ms/step - loss: 0.2931 - accuracy: 0.8951 - val_loss: 1.6295 - val_accuracy: 0.5938\n",
            "Epoch 74/100\n",
            "65/65 [==============================] - 5s 69ms/step - loss: 0.2676 - accuracy: 0.9087 - val_loss: 1.7638 - val_accuracy: 0.5957\n",
            "Epoch 75/100\n",
            "65/65 [==============================] - 6s 85ms/step - loss: 0.2974 - accuracy: 0.8965 - val_loss: 1.6754 - val_accuracy: 0.5957\n",
            "Epoch 76/100\n",
            "65/65 [==============================] - 5s 69ms/step - loss: 0.2749 - accuracy: 0.9078 - val_loss: 2.9120 - val_accuracy: 0.4297\n",
            "Epoch 77/100\n",
            "65/65 [==============================] - 5s 71ms/step - loss: 0.3519 - accuracy: 0.8814 - val_loss: 1.7458 - val_accuracy: 0.5762\n"
          ]
        }
      ]
    },
    {
      "cell_type": "markdown",
      "source": [
        "## Best working model"
      ],
      "metadata": {
        "id": "fu-Xp4EH-lwA"
      }
    },
    {
      "cell_type": "code",
      "source": [
        "model = Sequential()\n",
        "model.add(layers.Rescaling(1./255))\n",
        "\n",
        "model.add(layers.Conv2D(32,\n",
        "                        (3,3),\n",
        "                        input_shape = (img_width, img_height, 3),\n",
        "                        padding = 'same',\n",
        "                        activation = 'relu'))\n",
        "model.add(layers.BatchNormalization())\n",
        "\n",
        "\n",
        "model.add(layers.Conv2D(32,\n",
        "                        (3,3),\n",
        "                        padding = 'same',\n",
        "                        activation = 'relu'))\n",
        "model.add(layers.BatchNormalization())\n",
        "model.add(layers.MaxPooling2D((2,2)))\n",
        "model.add(layers.Dropout(rate=0.1))\n",
        "\n",
        "model.add(layers.Conv2D(64,\n",
        "                        (3,3),\n",
        "                        input_shape = (img_width, img_height, 3),\n",
        "                        padding = 'same',\n",
        "                        activation = 'relu'))\n",
        "model.add(layers.BatchNormalization())\n",
        "model.add(layers.MaxPool2D((2,2)))\n",
        "model.add(layers.Dropout(rate=0.1))\n",
        "\n",
        "model.add(layers.Conv2D(64,\n",
        "                        (3,3),\n",
        "                        input_shape = (img_width, img_height, 3),\n",
        "                        padding = 'same',\n",
        "                        activation = 'relu'))\n",
        "model.add(layers.BatchNormalization())\n",
        "model.add(layers.MaxPool2D((2,2)))\n",
        "model.add(layers.Dropout(rate=0.2))\n",
        "\n",
        "model.add(layers.Conv2D(128,\n",
        "                        (3,3),\n",
        "                        input_shape = (img_width, img_height, 3),\n",
        "                        padding = 'same',\n",
        "                        activation = 'relu'))\n",
        "model.add(layers.BatchNormalization())\n",
        "model.add(layers.MaxPool2D((2,2)))\n",
        "model.add(layers.Dropout(rate=0.3))\n",
        "\n",
        "\n",
        "model.add(layers.Conv2D(128,\n",
        "                        (3,3),\n",
        "                        input_shape = (img_width, img_height, 3),\n",
        "                        padding = 'same',\n",
        "                        activation = 'relu'))\n",
        "model.add(layers.BatchNormalization())\n",
        "model.add(layers.MaxPool2D((2,2)))\n",
        "model.add(layers.Dropout(rate=0.4))\n",
        "\n",
        "model.add(layers.Conv2D(128,\n",
        "                        (3,3),\n",
        "                        input_shape = (img_width, img_height, 3),\n",
        "                        padding = 'same',\n",
        "                        activation = 'relu'))\n",
        "model.add(layers.BatchNormalization())\n",
        "model.add(layers.MaxPool2D((2,2)))\n",
        "model.add(layers.Dropout(rate=0.4))\n",
        "\n",
        "model.add(layers.Flatten())\n",
        "\n",
        "model.add(layers.Dense(256, activation='relu'))\n",
        "model.add(layers.BatchNormalization())\n",
        "model.add(layers.Dropout(rate=0.5))\n",
        "\n",
        "model.add(layers.Dense(256, activation='relu'))\n",
        "model.add(layers.BatchNormalization())\n",
        "model.add(layers.Dropout(rate=0.5))\n",
        "\n",
        "model.add(layers.Dense(128, activation='relu'))\n",
        "model.add(layers.BatchNormalization())\n",
        "\n",
        "\n",
        "model.add(layers.Dense(6, activation='softmax'))"
      ],
      "metadata": {
        "id": "tZ0hNFfn-pzn"
      },
      "execution_count": null,
      "outputs": []
    },
    {
      "cell_type": "code",
      "source": [
        "es = keras.callbacks.EarlyStopping(monitor='val_accuracy', patience=7, restore_best_weights=True)\n",
        "learning_rate=0.003\n",
        "\n",
        "model.compile(optimizer= keras.optimizers.Adam(learning_rate=learning_rate),\n",
        "              loss = 'categorical_crossentropy',\n",
        "              metrics = ['accuracy'])"
      ],
      "metadata": {
        "id": "QC4C2ban-wDx"
      },
      "execution_count": null,
      "outputs": []
    },
    {
      "cell_type": "code",
      "source": [
        "history = model.fit(\n",
        "    train_ds,\n",
        "    validation_data = val_ds,\n",
        "    epochs = 100,\n",
        "    batch_size = batch_size,\n",
        "    callbacks=[es]\n",
        ")"
      ],
      "metadata": {
        "colab": {
          "base_uri": "https://localhost:8080/"
        },
        "id": "mltbw5oZ-3o8",
        "outputId": "f3bbdc67-9c1e-4e74-edb7-8f5977c1b121"
      },
      "execution_count": null,
      "outputs": [
        {
          "output_type": "stream",
          "name": "stdout",
          "text": [
            "Epoch 1/100\n",
            "65/65 [==============================] - 15s 77ms/step - loss: 2.0437 - accuracy: 0.2787 - val_loss: 5.3991 - val_accuracy: 0.1113\n",
            "Epoch 2/100\n",
            "65/65 [==============================] - 6s 83ms/step - loss: 1.7142 - accuracy: 0.3455 - val_loss: 4.0043 - val_accuracy: 0.1426\n",
            "Epoch 3/100\n",
            "65/65 [==============================] - 5s 71ms/step - loss: 1.5646 - accuracy: 0.3929 - val_loss: 3.0798 - val_accuracy: 0.1387\n",
            "Epoch 4/100\n",
            "65/65 [==============================] - 5s 71ms/step - loss: 1.4827 - accuracy: 0.4041 - val_loss: 3.2784 - val_accuracy: 0.1387\n",
            "Epoch 5/100\n",
            "65/65 [==============================] - 7s 106ms/step - loss: 1.4491 - accuracy: 0.4183 - val_loss: 3.0273 - val_accuracy: 0.1328\n",
            "Epoch 6/100\n",
            "65/65 [==============================] - 5s 70ms/step - loss: 1.4260 - accuracy: 0.4348 - val_loss: 2.8847 - val_accuracy: 0.1270\n",
            "Epoch 7/100\n",
            "65/65 [==============================] - 5s 74ms/step - loss: 1.4173 - accuracy: 0.4475 - val_loss: 2.2590 - val_accuracy: 0.1758\n",
            "Epoch 8/100\n",
            "65/65 [==============================] - 6s 82ms/step - loss: 1.3989 - accuracy: 0.4505 - val_loss: 2.4938 - val_accuracy: 0.1562\n",
            "Epoch 9/100\n",
            "65/65 [==============================] - 5s 70ms/step - loss: 1.3490 - accuracy: 0.4612 - val_loss: 2.2399 - val_accuracy: 0.1816\n",
            "Epoch 10/100\n",
            "65/65 [==============================] - 6s 83ms/step - loss: 1.3796 - accuracy: 0.4441 - val_loss: 1.6906 - val_accuracy: 0.3281\n",
            "Epoch 11/100\n",
            "65/65 [==============================] - 5s 71ms/step - loss: 1.3505 - accuracy: 0.4602 - val_loss: 1.6780 - val_accuracy: 0.3145\n",
            "Epoch 12/100\n",
            "65/65 [==============================] - 5s 71ms/step - loss: 1.3632 - accuracy: 0.4485 - val_loss: 1.9246 - val_accuracy: 0.2852\n",
            "Epoch 13/100\n",
            "65/65 [==============================] - 6s 87ms/step - loss: 1.3221 - accuracy: 0.4763 - val_loss: 1.4652 - val_accuracy: 0.4219\n",
            "Epoch 14/100\n",
            "65/65 [==============================] - 5s 71ms/step - loss: 1.3116 - accuracy: 0.4749 - val_loss: 1.4383 - val_accuracy: 0.4453\n",
            "Epoch 15/100\n",
            "65/65 [==============================] - 6s 81ms/step - loss: 1.3138 - accuracy: 0.4788 - val_loss: 1.4183 - val_accuracy: 0.4199\n",
            "Epoch 16/100\n",
            "65/65 [==============================] - 5s 71ms/step - loss: 1.2997 - accuracy: 0.4807 - val_loss: 1.4879 - val_accuracy: 0.4492\n",
            "Epoch 17/100\n",
            "65/65 [==============================] - 6s 85ms/step - loss: 1.2788 - accuracy: 0.5022 - val_loss: 1.8970 - val_accuracy: 0.2578\n",
            "Epoch 18/100\n",
            "65/65 [==============================] - 5s 70ms/step - loss: 1.2651 - accuracy: 0.4973 - val_loss: 1.4200 - val_accuracy: 0.4316\n",
            "Epoch 19/100\n",
            "65/65 [==============================] - 6s 81ms/step - loss: 1.2499 - accuracy: 0.5149 - val_loss: 1.4109 - val_accuracy: 0.4688\n",
            "Epoch 20/100\n",
            "65/65 [==============================] - 6s 80ms/step - loss: 1.2711 - accuracy: 0.5007 - val_loss: 1.6271 - val_accuracy: 0.3730\n",
            "Epoch 21/100\n",
            "65/65 [==============================] - 6s 88ms/step - loss: 1.2419 - accuracy: 0.5173 - val_loss: 1.4893 - val_accuracy: 0.4395\n",
            "Epoch 22/100\n",
            "65/65 [==============================] - 5s 71ms/step - loss: 1.2359 - accuracy: 0.5149 - val_loss: 1.3605 - val_accuracy: 0.4883\n",
            "Epoch 23/100\n",
            "65/65 [==============================] - 6s 81ms/step - loss: 1.2333 - accuracy: 0.5178 - val_loss: 1.3182 - val_accuracy: 0.5020\n",
            "Epoch 24/100\n",
            "65/65 [==============================] - 5s 75ms/step - loss: 1.2268 - accuracy: 0.5183 - val_loss: 1.3357 - val_accuracy: 0.4902\n",
            "Epoch 25/100\n",
            "65/65 [==============================] - 5s 71ms/step - loss: 1.2018 - accuracy: 0.5315 - val_loss: 1.2453 - val_accuracy: 0.5273\n",
            "Epoch 26/100\n",
            "65/65 [==============================] - 6s 84ms/step - loss: 1.1866 - accuracy: 0.5398 - val_loss: 1.4039 - val_accuracy: 0.4824\n",
            "Epoch 27/100\n",
            "65/65 [==============================] - 5s 71ms/step - loss: 1.1760 - accuracy: 0.5461 - val_loss: 1.4754 - val_accuracy: 0.4141\n",
            "Epoch 28/100\n",
            "65/65 [==============================] - 6s 80ms/step - loss: 1.1517 - accuracy: 0.5656 - val_loss: 1.4503 - val_accuracy: 0.4199\n",
            "Epoch 29/100\n",
            "65/65 [==============================] - 5s 71ms/step - loss: 1.1221 - accuracy: 0.5783 - val_loss: 1.3827 - val_accuracy: 0.4629\n",
            "Epoch 30/100\n",
            "65/65 [==============================] - 6s 85ms/step - loss: 1.1258 - accuracy: 0.5686 - val_loss: 1.6266 - val_accuracy: 0.3359\n",
            "Epoch 31/100\n",
            "65/65 [==============================] - 5s 72ms/step - loss: 1.1265 - accuracy: 0.5749 - val_loss: 1.2897 - val_accuracy: 0.5039\n",
            "Epoch 32/100\n",
            "65/65 [==============================] - 5s 74ms/step - loss: 1.0984 - accuracy: 0.5866 - val_loss: 1.2165 - val_accuracy: 0.5449\n",
            "Epoch 33/100\n",
            "65/65 [==============================] - 6s 84ms/step - loss: 1.0988 - accuracy: 0.5847 - val_loss: 1.4644 - val_accuracy: 0.4551\n",
            "Epoch 34/100\n",
            "65/65 [==============================] - 5s 72ms/step - loss: 1.0566 - accuracy: 0.5949 - val_loss: 1.4345 - val_accuracy: 0.4766\n",
            "Epoch 35/100\n",
            "65/65 [==============================] - 6s 87ms/step - loss: 1.0527 - accuracy: 0.5949 - val_loss: 1.3970 - val_accuracy: 0.5527\n",
            "Epoch 36/100\n",
            "65/65 [==============================] - 5s 71ms/step - loss: 1.0003 - accuracy: 0.6266 - val_loss: 1.3324 - val_accuracy: 0.5234\n",
            "Epoch 37/100\n",
            "65/65 [==============================] - 5s 73ms/step - loss: 1.0249 - accuracy: 0.6208 - val_loss: 1.3696 - val_accuracy: 0.4883\n",
            "Epoch 38/100\n",
            "65/65 [==============================] - 6s 86ms/step - loss: 0.9963 - accuracy: 0.6296 - val_loss: 1.4101 - val_accuracy: 0.4961\n",
            "Epoch 39/100\n",
            "65/65 [==============================] - 5s 72ms/step - loss: 0.9970 - accuracy: 0.6266 - val_loss: 1.1683 - val_accuracy: 0.5684\n",
            "Epoch 40/100\n",
            "65/65 [==============================] - 6s 88ms/step - loss: 0.9442 - accuracy: 0.6554 - val_loss: 1.4244 - val_accuracy: 0.4766\n",
            "Epoch 41/100\n",
            "65/65 [==============================] - 5s 71ms/step - loss: 0.9455 - accuracy: 0.6647 - val_loss: 1.3031 - val_accuracy: 0.5352\n",
            "Epoch 42/100\n",
            "65/65 [==============================] - 6s 88ms/step - loss: 0.9414 - accuracy: 0.6550 - val_loss: 1.2373 - val_accuracy: 0.5703\n",
            "Epoch 43/100\n",
            "65/65 [==============================] - 5s 71ms/step - loss: 0.9034 - accuracy: 0.6764 - val_loss: 1.4849 - val_accuracy: 0.4844\n",
            "Epoch 44/100\n",
            "65/65 [==============================] - 5s 80ms/step - loss: 0.8861 - accuracy: 0.6784 - val_loss: 1.5526 - val_accuracy: 0.5117\n",
            "Epoch 45/100\n",
            "65/65 [==============================] - 5s 75ms/step - loss: 0.8955 - accuracy: 0.6652 - val_loss: 1.3011 - val_accuracy: 0.5625\n",
            "Epoch 46/100\n",
            "65/65 [==============================] - 5s 71ms/step - loss: 0.8723 - accuracy: 0.6833 - val_loss: 1.4719 - val_accuracy: 0.4609\n",
            "Epoch 47/100\n",
            "65/65 [==============================] - 6s 85ms/step - loss: 0.8397 - accuracy: 0.7013 - val_loss: 1.4308 - val_accuracy: 0.4980\n",
            "Epoch 48/100\n",
            "65/65 [==============================] - 5s 72ms/step - loss: 0.8483 - accuracy: 0.6877 - val_loss: 1.3596 - val_accuracy: 0.5000\n",
            "Epoch 49/100\n",
            "65/65 [==============================] - 6s 81ms/step - loss: 0.7968 - accuracy: 0.7091 - val_loss: 1.2467 - val_accuracy: 0.5762\n",
            "Epoch 50/100\n",
            "65/65 [==============================] - 5s 76ms/step - loss: 0.7716 - accuracy: 0.7189 - val_loss: 1.3862 - val_accuracy: 0.5273\n",
            "Epoch 51/100\n",
            "65/65 [==============================] - 5s 71ms/step - loss: 0.7488 - accuracy: 0.7291 - val_loss: 1.5701 - val_accuracy: 0.5215\n",
            "Epoch 52/100\n",
            "65/65 [==============================] - 6s 83ms/step - loss: 0.7281 - accuracy: 0.7286 - val_loss: 1.3373 - val_accuracy: 0.5820\n",
            "Epoch 53/100\n",
            "65/65 [==============================] - 5s 71ms/step - loss: 0.7209 - accuracy: 0.7394 - val_loss: 1.5252 - val_accuracy: 0.4590\n",
            "Epoch 54/100\n",
            "65/65 [==============================] - 5s 73ms/step - loss: 0.7198 - accuracy: 0.7394 - val_loss: 1.3805 - val_accuracy: 0.5977\n",
            "Epoch 55/100\n",
            "65/65 [==============================] - 6s 84ms/step - loss: 0.6535 - accuracy: 0.7662 - val_loss: 1.1725 - val_accuracy: 0.6387\n",
            "Epoch 56/100\n",
            "65/65 [==============================] - 5s 71ms/step - loss: 0.6480 - accuracy: 0.7628 - val_loss: 1.3283 - val_accuracy: 0.5645\n",
            "Epoch 57/100\n",
            "65/65 [==============================] - 6s 81ms/step - loss: 0.6430 - accuracy: 0.7653 - val_loss: 1.4407 - val_accuracy: 0.5684\n",
            "Epoch 58/100\n",
            "65/65 [==============================] - 5s 72ms/step - loss: 0.6089 - accuracy: 0.7784 - val_loss: 1.4765 - val_accuracy: 0.5566\n",
            "Epoch 59/100\n",
            "65/65 [==============================] - 6s 88ms/step - loss: 0.5446 - accuracy: 0.8072 - val_loss: 1.3124 - val_accuracy: 0.6133\n",
            "Epoch 60/100\n",
            "65/65 [==============================] - 5s 71ms/step - loss: 0.5616 - accuracy: 0.8014 - val_loss: 1.4906 - val_accuracy: 0.5742\n",
            "Epoch 61/100\n",
            "65/65 [==============================] - 6s 80ms/step - loss: 0.5237 - accuracy: 0.8097 - val_loss: 1.3226 - val_accuracy: 0.6094\n",
            "Epoch 62/100\n",
            "65/65 [==============================] - 5s 76ms/step - loss: 0.5620 - accuracy: 0.7984 - val_loss: 1.4053 - val_accuracy: 0.5527\n"
          ]
        }
      ]
    },
    {
      "cell_type": "markdown",
      "source": [
        "## Albumentation"
      ],
      "metadata": {
        "id": "Edf-QDCCyEa5"
      }
    },
    {
      "cell_type": "code",
      "source": [
        "model = Sequential()\n",
        "model.add(layers.Rescaling(1./255))\n",
        "\n",
        "# adding albumentation layers doesnt help improve score\n",
        "\n",
        "#model.add(layers.RandomCrop(128,128))\n",
        "#model.add(layers.RandomBrightness(0.7, value_range=(0, 255)))\n",
        "#model.add(layers.RandomContrast(0.5))\n",
        "model.add(layers.RandomZoom(\n",
        "    height_factor=(-0.3, -0.2),\n",
        "    width_factor=(-0.3, -0.2),\n",
        "    fill_mode=\"reflect\",\n",
        "    interpolation=\"bilinear\",\n",
        "   seed=100))\n",
        "\n",
        "model = Sequential()\n",
        "model.add(layers.Rescaling(1./255))\n",
        "\n",
        "model.add(layers.Conv2D(32,\n",
        "                        (3,3),\n",
        "                        input_shape = (img_width, img_height, 3),\n",
        "                        padding = 'same',\n",
        "                        activation = 'relu'))\n",
        "model.add(layers.BatchNormalization())\n",
        "\n",
        "\n",
        "model.add(layers.Conv2D(32,\n",
        "                        (3,3),\n",
        "                        padding = 'same',\n",
        "                        activation = 'relu'))\n",
        "model.add(layers.BatchNormalization())\n",
        "model.add(layers.MaxPooling2D((2,2)))\n",
        "model.add(layers.Dropout(rate=0.1))\n",
        "\n",
        "model.add(layers.Conv2D(64,\n",
        "                        (3,3),\n",
        "                        input_shape = (img_width, img_height, 3),\n",
        "                        padding = 'same',\n",
        "                        activation = 'relu'))\n",
        "model.add(layers.BatchNormalization())\n",
        "model.add(layers.MaxPool2D((2,2)))\n",
        "model.add(layers.Dropout(rate=0.1))\n",
        "\n",
        "model.add(layers.Conv2D(64,\n",
        "                        (3,3),\n",
        "                        input_shape = (img_width, img_height, 3),\n",
        "                        padding = 'same',\n",
        "                        activation = 'relu'))\n",
        "model.add(layers.BatchNormalization())\n",
        "model.add(layers.MaxPool2D((2,2)))\n",
        "model.add(layers.Dropout(rate=0.2))\n",
        "\n",
        "model.add(layers.Conv2D(128,\n",
        "                        (3,3),\n",
        "                        input_shape = (img_width, img_height, 3),\n",
        "                        padding = 'same',\n",
        "                        activation = 'relu'))\n",
        "model.add(layers.BatchNormalization())\n",
        "model.add(layers.MaxPool2D((2,2)))\n",
        "model.add(layers.Dropout(rate=0.3))\n",
        "\n",
        "\n",
        "model.add(layers.Conv2D(128,\n",
        "                        (3,3),\n",
        "                        input_shape = (img_width, img_height, 3),\n",
        "                        padding = 'same',\n",
        "                        activation = 'relu'))\n",
        "model.add(layers.BatchNormalization())\n",
        "model.add(layers.MaxPool2D((2,2)))\n",
        "model.add(layers.Dropout(rate=0.4))\n",
        "\n",
        "model.add(layers.Conv2D(128,\n",
        "                        (3,3),\n",
        "                        input_shape = (img_width, img_height, 3),\n",
        "                        padding = 'same',\n",
        "                        activation = 'relu'))\n",
        "model.add(layers.BatchNormalization())\n",
        "model.add(layers.MaxPool2D((2,2)))\n",
        "model.add(layers.Dropout(rate=0.4))\n",
        "\n",
        "model.add(layers.Flatten())\n",
        "\n",
        "model.add(layers.Dense(256, activation='relu'))\n",
        "model.add(layers.BatchNormalization())\n",
        "model.add(layers.Dropout(rate=0.5))\n",
        "\n",
        "model.add(layers.Dense(256, activation='relu'))\n",
        "model.add(layers.BatchNormalization())\n",
        "model.add(layers.Dropout(rate=0.5))\n",
        "\n",
        "model.add(layers.Dense(128, activation='relu'))\n",
        "model.add(layers.BatchNormalization())\n",
        "\n",
        "\n",
        "model.add(layers.Dense(6, activation='softmax'))"
      ],
      "metadata": {
        "id": "9EUdBKzYYtUk"
      },
      "execution_count": null,
      "outputs": []
    },
    {
      "cell_type": "code",
      "source": [
        "es = keras.callbacks.EarlyStopping(monitor='val_accuracy', patience=10, restore_best_weights=True)\n",
        "learning_rate=0.003\n",
        "\n",
        "model.compile(optimizer= keras.optimizers.Adam(learning_rate=learning_rate),\n",
        "              loss = 'categorical_crossentropy',\n",
        "              metrics = ['accuracy'])"
      ],
      "metadata": {
        "id": "siF5GfD2crjG"
      },
      "execution_count": null,
      "outputs": []
    },
    {
      "cell_type": "code",
      "source": [
        "history = model.fit(\n",
        "    train_ds,\n",
        "    validation_data = val_ds,\n",
        "    epochs = 100,\n",
        "    batch_size = batch_size,\n",
        "    callbacks=[es]\n",
        ")"
      ],
      "metadata": {
        "colab": {
          "base_uri": "https://localhost:8080/",
          "height": 519
        },
        "id": "gdKiL6-Ics80",
        "outputId": "a1df79e7-bd85-46cd-a6b6-1ce6d3b9d147"
      },
      "execution_count": null,
      "outputs": [
        {
          "output_type": "stream",
          "name": "stdout",
          "text": [
            "Epoch 1/100\n",
            "65/65 [==============================] - 559s 8s/step - loss: 2.0578 - accuracy: 0.2782 - val_loss: 5.2374 - val_accuracy: 0.1191\n",
            "Epoch 2/100\n",
            "65/65 [==============================] - 241s 4s/step - loss: 1.6657 - accuracy: 0.3655 - val_loss: 5.1623 - val_accuracy: 0.1094\n",
            "Epoch 3/100\n",
            "65/65 [==============================] - 233s 4s/step - loss: 1.5441 - accuracy: 0.4061 - val_loss: 3.2845 - val_accuracy: 0.1289\n",
            "Epoch 4/100\n",
            "50/65 [======================>.......] - ETA: 52s - loss: 1.5034 - accuracy: 0.4238"
          ]
        },
        {
          "output_type": "error",
          "ename": "KeyboardInterrupt",
          "evalue": "ignored",
          "traceback": [
            "\u001b[0;31m---------------------------------------------------------------------------\u001b[0m",
            "\u001b[0;31mKeyboardInterrupt\u001b[0m                         Traceback (most recent call last)",
            "\u001b[0;32m<ipython-input-10-6334e463a505>\u001b[0m in \u001b[0;36m<cell line: 1>\u001b[0;34m()\u001b[0m\n\u001b[0;32m----> 1\u001b[0;31m history = model.fit(\n\u001b[0m\u001b[1;32m      2\u001b[0m     \u001b[0mtrain_ds\u001b[0m\u001b[0;34m,\u001b[0m\u001b[0;34m\u001b[0m\u001b[0;34m\u001b[0m\u001b[0m\n\u001b[1;32m      3\u001b[0m     \u001b[0mvalidation_data\u001b[0m \u001b[0;34m=\u001b[0m \u001b[0mval_ds\u001b[0m\u001b[0;34m,\u001b[0m\u001b[0;34m\u001b[0m\u001b[0;34m\u001b[0m\u001b[0m\n\u001b[1;32m      4\u001b[0m     \u001b[0mepochs\u001b[0m \u001b[0;34m=\u001b[0m \u001b[0;36m100\u001b[0m\u001b[0;34m,\u001b[0m\u001b[0;34m\u001b[0m\u001b[0;34m\u001b[0m\u001b[0m\n\u001b[1;32m      5\u001b[0m     \u001b[0mbatch_size\u001b[0m \u001b[0;34m=\u001b[0m \u001b[0mbatch_size\u001b[0m\u001b[0;34m,\u001b[0m\u001b[0;34m\u001b[0m\u001b[0;34m\u001b[0m\u001b[0m\n",
            "\u001b[0;32m/usr/local/lib/python3.10/dist-packages/keras/utils/traceback_utils.py\u001b[0m in \u001b[0;36merror_handler\u001b[0;34m(*args, **kwargs)\u001b[0m\n\u001b[1;32m     63\u001b[0m         \u001b[0mfiltered_tb\u001b[0m \u001b[0;34m=\u001b[0m \u001b[0;32mNone\u001b[0m\u001b[0;34m\u001b[0m\u001b[0;34m\u001b[0m\u001b[0m\n\u001b[1;32m     64\u001b[0m         \u001b[0;32mtry\u001b[0m\u001b[0;34m:\u001b[0m\u001b[0;34m\u001b[0m\u001b[0;34m\u001b[0m\u001b[0m\n\u001b[0;32m---> 65\u001b[0;31m             \u001b[0;32mreturn\u001b[0m \u001b[0mfn\u001b[0m\u001b[0;34m(\u001b[0m\u001b[0;34m*\u001b[0m\u001b[0margs\u001b[0m\u001b[0;34m,\u001b[0m \u001b[0;34m**\u001b[0m\u001b[0mkwargs\u001b[0m\u001b[0;34m)\u001b[0m\u001b[0;34m\u001b[0m\u001b[0;34m\u001b[0m\u001b[0m\n\u001b[0m\u001b[1;32m     66\u001b[0m         \u001b[0;32mexcept\u001b[0m \u001b[0mException\u001b[0m \u001b[0;32mas\u001b[0m \u001b[0me\u001b[0m\u001b[0;34m:\u001b[0m\u001b[0;34m\u001b[0m\u001b[0;34m\u001b[0m\u001b[0m\n\u001b[1;32m     67\u001b[0m             \u001b[0mfiltered_tb\u001b[0m \u001b[0;34m=\u001b[0m \u001b[0m_process_traceback_frames\u001b[0m\u001b[0;34m(\u001b[0m\u001b[0me\u001b[0m\u001b[0;34m.\u001b[0m\u001b[0m__traceback__\u001b[0m\u001b[0;34m)\u001b[0m\u001b[0;34m\u001b[0m\u001b[0;34m\u001b[0m\u001b[0m\n",
            "\u001b[0;32m/usr/local/lib/python3.10/dist-packages/keras/engine/training.py\u001b[0m in \u001b[0;36mfit\u001b[0;34m(self, x, y, batch_size, epochs, verbose, callbacks, validation_split, validation_data, shuffle, class_weight, sample_weight, initial_epoch, steps_per_epoch, validation_steps, validation_batch_size, validation_freq, max_queue_size, workers, use_multiprocessing)\u001b[0m\n\u001b[1;32m   1683\u001b[0m                         ):\n\u001b[1;32m   1684\u001b[0m                             \u001b[0mcallbacks\u001b[0m\u001b[0;34m.\u001b[0m\u001b[0mon_train_batch_begin\u001b[0m\u001b[0;34m(\u001b[0m\u001b[0mstep\u001b[0m\u001b[0;34m)\u001b[0m\u001b[0;34m\u001b[0m\u001b[0;34m\u001b[0m\u001b[0m\n\u001b[0;32m-> 1685\u001b[0;31m                             \u001b[0mtmp_logs\u001b[0m \u001b[0;34m=\u001b[0m \u001b[0mself\u001b[0m\u001b[0;34m.\u001b[0m\u001b[0mtrain_function\u001b[0m\u001b[0;34m(\u001b[0m\u001b[0miterator\u001b[0m\u001b[0;34m)\u001b[0m\u001b[0;34m\u001b[0m\u001b[0;34m\u001b[0m\u001b[0m\n\u001b[0m\u001b[1;32m   1686\u001b[0m                             \u001b[0;32mif\u001b[0m \u001b[0mdata_handler\u001b[0m\u001b[0;34m.\u001b[0m\u001b[0mshould_sync\u001b[0m\u001b[0;34m:\u001b[0m\u001b[0;34m\u001b[0m\u001b[0;34m\u001b[0m\u001b[0m\n\u001b[1;32m   1687\u001b[0m                                 \u001b[0mcontext\u001b[0m\u001b[0;34m.\u001b[0m\u001b[0masync_wait\u001b[0m\u001b[0;34m(\u001b[0m\u001b[0;34m)\u001b[0m\u001b[0;34m\u001b[0m\u001b[0;34m\u001b[0m\u001b[0m\n",
            "\u001b[0;32m/usr/local/lib/python3.10/dist-packages/tensorflow/python/util/traceback_utils.py\u001b[0m in \u001b[0;36merror_handler\u001b[0;34m(*args, **kwargs)\u001b[0m\n\u001b[1;32m    148\u001b[0m     \u001b[0mfiltered_tb\u001b[0m \u001b[0;34m=\u001b[0m \u001b[0;32mNone\u001b[0m\u001b[0;34m\u001b[0m\u001b[0;34m\u001b[0m\u001b[0m\n\u001b[1;32m    149\u001b[0m     \u001b[0;32mtry\u001b[0m\u001b[0;34m:\u001b[0m\u001b[0;34m\u001b[0m\u001b[0;34m\u001b[0m\u001b[0m\n\u001b[0;32m--> 150\u001b[0;31m       \u001b[0;32mreturn\u001b[0m \u001b[0mfn\u001b[0m\u001b[0;34m(\u001b[0m\u001b[0;34m*\u001b[0m\u001b[0margs\u001b[0m\u001b[0;34m,\u001b[0m \u001b[0;34m**\u001b[0m\u001b[0mkwargs\u001b[0m\u001b[0;34m)\u001b[0m\u001b[0;34m\u001b[0m\u001b[0;34m\u001b[0m\u001b[0m\n\u001b[0m\u001b[1;32m    151\u001b[0m     \u001b[0;32mexcept\u001b[0m \u001b[0mException\u001b[0m \u001b[0;32mas\u001b[0m \u001b[0me\u001b[0m\u001b[0;34m:\u001b[0m\u001b[0;34m\u001b[0m\u001b[0;34m\u001b[0m\u001b[0m\n\u001b[1;32m    152\u001b[0m       \u001b[0mfiltered_tb\u001b[0m \u001b[0;34m=\u001b[0m \u001b[0m_process_traceback_frames\u001b[0m\u001b[0;34m(\u001b[0m\u001b[0me\u001b[0m\u001b[0;34m.\u001b[0m\u001b[0m__traceback__\u001b[0m\u001b[0;34m)\u001b[0m\u001b[0;34m\u001b[0m\u001b[0;34m\u001b[0m\u001b[0m\n",
            "\u001b[0;32m/usr/local/lib/python3.10/dist-packages/tensorflow/python/eager/polymorphic_function/polymorphic_function.py\u001b[0m in \u001b[0;36m__call__\u001b[0;34m(self, *args, **kwds)\u001b[0m\n\u001b[1;32m    892\u001b[0m \u001b[0;34m\u001b[0m\u001b[0m\n\u001b[1;32m    893\u001b[0m       \u001b[0;32mwith\u001b[0m \u001b[0mOptionalXlaContext\u001b[0m\u001b[0;34m(\u001b[0m\u001b[0mself\u001b[0m\u001b[0;34m.\u001b[0m\u001b[0m_jit_compile\u001b[0m\u001b[0;34m)\u001b[0m\u001b[0;34m:\u001b[0m\u001b[0;34m\u001b[0m\u001b[0;34m\u001b[0m\u001b[0m\n\u001b[0;32m--> 894\u001b[0;31m         \u001b[0mresult\u001b[0m \u001b[0;34m=\u001b[0m \u001b[0mself\u001b[0m\u001b[0;34m.\u001b[0m\u001b[0m_call\u001b[0m\u001b[0;34m(\u001b[0m\u001b[0;34m*\u001b[0m\u001b[0margs\u001b[0m\u001b[0;34m,\u001b[0m \u001b[0;34m**\u001b[0m\u001b[0mkwds\u001b[0m\u001b[0;34m)\u001b[0m\u001b[0;34m\u001b[0m\u001b[0;34m\u001b[0m\u001b[0m\n\u001b[0m\u001b[1;32m    895\u001b[0m \u001b[0;34m\u001b[0m\u001b[0m\n\u001b[1;32m    896\u001b[0m       \u001b[0mnew_tracing_count\u001b[0m \u001b[0;34m=\u001b[0m \u001b[0mself\u001b[0m\u001b[0;34m.\u001b[0m\u001b[0mexperimental_get_tracing_count\u001b[0m\u001b[0;34m(\u001b[0m\u001b[0;34m)\u001b[0m\u001b[0;34m\u001b[0m\u001b[0;34m\u001b[0m\u001b[0m\n",
            "\u001b[0;32m/usr/local/lib/python3.10/dist-packages/tensorflow/python/eager/polymorphic_function/polymorphic_function.py\u001b[0m in \u001b[0;36m_call\u001b[0;34m(self, *args, **kwds)\u001b[0m\n\u001b[1;32m    924\u001b[0m       \u001b[0;31m# In this case we have created variables on the first call, so we run the\u001b[0m\u001b[0;34m\u001b[0m\u001b[0;34m\u001b[0m\u001b[0m\n\u001b[1;32m    925\u001b[0m       \u001b[0;31m# defunned version which is guaranteed to never create variables.\u001b[0m\u001b[0;34m\u001b[0m\u001b[0;34m\u001b[0m\u001b[0m\n\u001b[0;32m--> 926\u001b[0;31m       \u001b[0;32mreturn\u001b[0m \u001b[0mself\u001b[0m\u001b[0;34m.\u001b[0m\u001b[0m_no_variable_creation_fn\u001b[0m\u001b[0;34m(\u001b[0m\u001b[0;34m*\u001b[0m\u001b[0margs\u001b[0m\u001b[0;34m,\u001b[0m \u001b[0;34m**\u001b[0m\u001b[0mkwds\u001b[0m\u001b[0;34m)\u001b[0m  \u001b[0;31m# pylint: disable=not-callable\u001b[0m\u001b[0;34m\u001b[0m\u001b[0;34m\u001b[0m\u001b[0m\n\u001b[0m\u001b[1;32m    927\u001b[0m     \u001b[0;32melif\u001b[0m \u001b[0mself\u001b[0m\u001b[0;34m.\u001b[0m\u001b[0m_variable_creation_fn\u001b[0m \u001b[0;32mis\u001b[0m \u001b[0;32mnot\u001b[0m \u001b[0;32mNone\u001b[0m\u001b[0;34m:\u001b[0m\u001b[0;34m\u001b[0m\u001b[0;34m\u001b[0m\u001b[0m\n\u001b[1;32m    928\u001b[0m       \u001b[0;31m# Release the lock early so that multiple threads can perform the call\u001b[0m\u001b[0;34m\u001b[0m\u001b[0;34m\u001b[0m\u001b[0m\n",
            "\u001b[0;32m/usr/local/lib/python3.10/dist-packages/tensorflow/python/eager/polymorphic_function/tracing_compiler.py\u001b[0m in \u001b[0;36m__call__\u001b[0;34m(self, *args, **kwargs)\u001b[0m\n\u001b[1;32m    141\u001b[0m       (concrete_function,\n\u001b[1;32m    142\u001b[0m        filtered_flat_args) = self._maybe_define_function(args, kwargs)\n\u001b[0;32m--> 143\u001b[0;31m     return concrete_function._call_flat(\n\u001b[0m\u001b[1;32m    144\u001b[0m         filtered_flat_args, captured_inputs=concrete_function.captured_inputs)  # pylint: disable=protected-access\n\u001b[1;32m    145\u001b[0m \u001b[0;34m\u001b[0m\u001b[0m\n",
            "\u001b[0;32m/usr/local/lib/python3.10/dist-packages/tensorflow/python/eager/polymorphic_function/monomorphic_function.py\u001b[0m in \u001b[0;36m_call_flat\u001b[0;34m(self, args, captured_inputs, cancellation_manager)\u001b[0m\n\u001b[1;32m   1755\u001b[0m         and executing_eagerly):\n\u001b[1;32m   1756\u001b[0m       \u001b[0;31m# No tape is watching; skip to running the function.\u001b[0m\u001b[0;34m\u001b[0m\u001b[0;34m\u001b[0m\u001b[0m\n\u001b[0;32m-> 1757\u001b[0;31m       return self._build_call_outputs(self._inference_function.call(\n\u001b[0m\u001b[1;32m   1758\u001b[0m           ctx, args, cancellation_manager=cancellation_manager))\n\u001b[1;32m   1759\u001b[0m     forward_backward = self._select_forward_and_backward_functions(\n",
            "\u001b[0;32m/usr/local/lib/python3.10/dist-packages/tensorflow/python/eager/polymorphic_function/monomorphic_function.py\u001b[0m in \u001b[0;36mcall\u001b[0;34m(self, ctx, args, cancellation_manager)\u001b[0m\n\u001b[1;32m    379\u001b[0m       \u001b[0;32mwith\u001b[0m \u001b[0m_InterpolateFunctionError\u001b[0m\u001b[0;34m(\u001b[0m\u001b[0mself\u001b[0m\u001b[0;34m)\u001b[0m\u001b[0;34m:\u001b[0m\u001b[0;34m\u001b[0m\u001b[0;34m\u001b[0m\u001b[0m\n\u001b[1;32m    380\u001b[0m         \u001b[0;32mif\u001b[0m \u001b[0mcancellation_manager\u001b[0m \u001b[0;32mis\u001b[0m \u001b[0;32mNone\u001b[0m\u001b[0;34m:\u001b[0m\u001b[0;34m\u001b[0m\u001b[0;34m\u001b[0m\u001b[0m\n\u001b[0;32m--> 381\u001b[0;31m           outputs = execute.execute(\n\u001b[0m\u001b[1;32m    382\u001b[0m               \u001b[0mstr\u001b[0m\u001b[0;34m(\u001b[0m\u001b[0mself\u001b[0m\u001b[0;34m.\u001b[0m\u001b[0msignature\u001b[0m\u001b[0;34m.\u001b[0m\u001b[0mname\u001b[0m\u001b[0;34m)\u001b[0m\u001b[0;34m,\u001b[0m\u001b[0;34m\u001b[0m\u001b[0;34m\u001b[0m\u001b[0m\n\u001b[1;32m    383\u001b[0m               \u001b[0mnum_outputs\u001b[0m\u001b[0;34m=\u001b[0m\u001b[0mself\u001b[0m\u001b[0;34m.\u001b[0m\u001b[0m_num_outputs\u001b[0m\u001b[0;34m,\u001b[0m\u001b[0;34m\u001b[0m\u001b[0;34m\u001b[0m\u001b[0m\n",
            "\u001b[0;32m/usr/local/lib/python3.10/dist-packages/tensorflow/python/eager/execute.py\u001b[0m in \u001b[0;36mquick_execute\u001b[0;34m(op_name, num_outputs, inputs, attrs, ctx, name)\u001b[0m\n\u001b[1;32m     50\u001b[0m   \u001b[0;32mtry\u001b[0m\u001b[0;34m:\u001b[0m\u001b[0;34m\u001b[0m\u001b[0;34m\u001b[0m\u001b[0m\n\u001b[1;32m     51\u001b[0m     \u001b[0mctx\u001b[0m\u001b[0;34m.\u001b[0m\u001b[0mensure_initialized\u001b[0m\u001b[0;34m(\u001b[0m\u001b[0;34m)\u001b[0m\u001b[0;34m\u001b[0m\u001b[0;34m\u001b[0m\u001b[0m\n\u001b[0;32m---> 52\u001b[0;31m     tensors = pywrap_tfe.TFE_Py_Execute(ctx._handle, device_name, op_name,\n\u001b[0m\u001b[1;32m     53\u001b[0m                                         inputs, attrs, num_outputs)\n\u001b[1;32m     54\u001b[0m   \u001b[0;32mexcept\u001b[0m \u001b[0mcore\u001b[0m\u001b[0;34m.\u001b[0m\u001b[0m_NotOkStatusException\u001b[0m \u001b[0;32mas\u001b[0m \u001b[0me\u001b[0m\u001b[0;34m:\u001b[0m\u001b[0;34m\u001b[0m\u001b[0;34m\u001b[0m\u001b[0m\n",
            "\u001b[0;31mKeyboardInterrupt\u001b[0m: "
          ]
        }
      ]
    },
    {
      "cell_type": "markdown",
      "source": [
        "## Last test"
      ],
      "metadata": {
        "id": "kBxf12v5q9zE"
      }
    },
    {
      "cell_type": "code",
      "source": [
        "model = Sequential()\n",
        "model.add(layers.Rescaling(1./255))\n",
        "\n",
        "model.add(layers.Conv2D(256,\n",
        "                        (3,3),\n",
        "                        input_shape = (img_width, img_height, 3),\n",
        "                        padding = 'same',\n",
        "                        activation = 'relu'))\n",
        "model.add(layers.BatchNormalization())\n",
        "\n",
        "\n",
        "model.add(layers.Conv2D(256,\n",
        "                        (3,3),\n",
        "                        padding = 'same',\n",
        "                        activation = 'relu'))\n",
        "model.add(layers.BatchNormalization())\n",
        "model.add(layers.MaxPooling2D((2,2)))\n",
        "model.add(layers.Dropout(rate=0.1))\n",
        "\n",
        "model.add(layers.Conv2D(128,\n",
        "                        (3,3),\n",
        "                        input_shape = (img_width, img_height, 3),\n",
        "                        padding = 'same',\n",
        "                        activation = 'relu'))\n",
        "model.add(layers.BatchNormalization())\n",
        "model.add(layers.MaxPool2D((2,2)))\n",
        "model.add(layers.Dropout(rate=0.1))\n",
        "\n",
        "model.add(layers.Conv2D(128,\n",
        "                        (3,3),\n",
        "                        input_shape = (img_width, img_height, 3),\n",
        "                        padding = 'same',\n",
        "                        activation = 'relu'))\n",
        "model.add(layers.BatchNormalization())\n",
        "model.add(layers.MaxPool2D((2,2)))\n",
        "model.add(layers.Dropout(rate=0.2))\n",
        "\n",
        "model.add(layers.Conv2D(64,\n",
        "                        (3,3),\n",
        "                        input_shape = (img_width, img_height, 3),\n",
        "                        padding = 'same',\n",
        "                        activation = 'relu'))\n",
        "model.add(layers.BatchNormalization())\n",
        "model.add(layers.MaxPool2D((2,2)))\n",
        "model.add(layers.Dropout(rate=0.3))\n",
        "\n",
        "\n",
        "model.add(layers.Conv2D(64,\n",
        "                        (3,3),\n",
        "                        input_shape = (img_width, img_height, 3),\n",
        "                        padding = 'same',\n",
        "                        activation = 'relu'))\n",
        "model.add(layers.BatchNormalization())\n",
        "model.add(layers.MaxPool2D((2,2)))\n",
        "model.add(layers.Dropout(rate=0.4))\n",
        "\n",
        "model.add(layers.Conv2D(128,\n",
        "                        (3,3),\n",
        "                        input_shape = (img_width, img_height, 3),\n",
        "                        padding = 'same',\n",
        "                        activation = 'relu'))\n",
        "model.add(layers.BatchNormalization())\n",
        "model.add(layers.MaxPool2D((2,2)))\n",
        "model.add(layers.Dropout(rate=0.4))\n",
        "\n",
        "model.add(layers.Flatten())\n",
        "\n",
        "model.add(layers.Dense(128, activation='relu'))\n",
        "model.add(layers.BatchNormalization())\n",
        "model.add(layers.Dropout(rate=0.5))\n",
        "\n",
        "model.add(layers.Dense(256, activation='relu'))\n",
        "model.add(layers.BatchNormalization())\n",
        "model.add(layers.Dropout(rate=0.5))\n",
        "\n",
        "model.add(layers.Dense(256, activation='relu'))\n",
        "model.add(layers.BatchNormalization())\n",
        "\n",
        "\n",
        "model.add(layers.Dense(6, activation='softmax'))"
      ],
      "metadata": {
        "id": "AmnL2K_ZrCPN"
      },
      "execution_count": null,
      "outputs": []
    },
    {
      "cell_type": "code",
      "source": [
        "es = keras.callbacks.EarlyStopping(monitor='val_accuracy', patience=7, restore_best_weights=True)\n",
        "learning_rate=0.003\n",
        "\n",
        "model.compile(optimizer= keras.optimizers.Adam(learning_rate=learning_rate),\n",
        "              loss = 'categorical_crossentropy',\n",
        "              metrics = ['accuracy'])"
      ],
      "metadata": {
        "id": "xwyGql09rfR1"
      },
      "execution_count": null,
      "outputs": []
    },
    {
      "cell_type": "code",
      "source": [
        "history = model.fit(\n",
        "    train_ds,\n",
        "    validation_data = val_ds,\n",
        "    epochs = 100,\n",
        "    batch_size = batch_size,\n",
        "    callbacks=[es]\n",
        ")"
      ],
      "metadata": {
        "colab": {
          "base_uri": "https://localhost:8080/"
        },
        "id": "SfnaypLVrp4y",
        "outputId": "4bf2bf9e-905f-4795-d973-966147b45ec7"
      },
      "execution_count": null,
      "outputs": [
        {
          "output_type": "stream",
          "name": "stdout",
          "text": [
            "Epoch 1/100\n",
            "65/65 [==============================] - 5s 75ms/step - loss: 0.8898 - accuracy: 0.6798 - val_loss: 1.5760 - val_accuracy: 0.4707\n",
            "Epoch 2/100\n",
            "65/65 [==============================] - 6s 84ms/step - loss: 0.8684 - accuracy: 0.6681 - val_loss: 1.2826 - val_accuracy: 0.5430\n",
            "Epoch 3/100\n",
            "65/65 [==============================] - 5s 73ms/step - loss: 0.8235 - accuracy: 0.6999 - val_loss: 1.4718 - val_accuracy: 0.5098\n",
            "Epoch 4/100\n",
            "65/65 [==============================] - 6s 86ms/step - loss: 0.7802 - accuracy: 0.7106 - val_loss: 1.3608 - val_accuracy: 0.5371\n",
            "Epoch 5/100\n",
            "65/65 [==============================] - 5s 74ms/step - loss: 0.8465 - accuracy: 0.6862 - val_loss: 1.2571 - val_accuracy: 0.5684\n",
            "Epoch 6/100\n",
            "65/65 [==============================] - 6s 83ms/step - loss: 0.7467 - accuracy: 0.7291 - val_loss: 1.4088 - val_accuracy: 0.5664\n",
            "Epoch 7/100\n",
            "65/65 [==============================] - 5s 73ms/step - loss: 0.7406 - accuracy: 0.7291 - val_loss: 1.6454 - val_accuracy: 0.5352\n",
            "Epoch 8/100\n",
            "65/65 [==============================] - 5s 72ms/step - loss: 0.7200 - accuracy: 0.7501 - val_loss: 1.4449 - val_accuracy: 0.4707\n",
            "Epoch 9/100\n",
            "65/65 [==============================] - 6s 85ms/step - loss: 0.6747 - accuracy: 0.7579 - val_loss: 1.5758 - val_accuracy: 0.5117\n",
            "Epoch 10/100\n",
            "65/65 [==============================] - 5s 73ms/step - loss: 0.6705 - accuracy: 0.7574 - val_loss: 1.4135 - val_accuracy: 0.5840\n",
            "Epoch 11/100\n",
            "65/65 [==============================] - 6s 84ms/step - loss: 0.6491 - accuracy: 0.7706 - val_loss: 1.2520 - val_accuracy: 0.6094\n",
            "Epoch 12/100\n",
            "65/65 [==============================] - 5s 72ms/step - loss: 0.6485 - accuracy: 0.7721 - val_loss: 1.2980 - val_accuracy: 0.6133\n",
            "Epoch 13/100\n",
            "65/65 [==============================] - 6s 81ms/step - loss: 0.5891 - accuracy: 0.7989 - val_loss: 1.4551 - val_accuracy: 0.5508\n",
            "Epoch 14/100\n",
            "65/65 [==============================] - 5s 77ms/step - loss: 0.5754 - accuracy: 0.7950 - val_loss: 1.5481 - val_accuracy: 0.5156\n",
            "Epoch 15/100\n",
            "65/65 [==============================] - 5s 72ms/step - loss: 0.5845 - accuracy: 0.7897 - val_loss: 1.4991 - val_accuracy: 0.5508\n",
            "Epoch 16/100\n",
            "65/65 [==============================] - 6s 87ms/step - loss: 0.5609 - accuracy: 0.7965 - val_loss: 1.8550 - val_accuracy: 0.4316\n",
            "Epoch 17/100\n",
            "65/65 [==============================] - 5s 78ms/step - loss: 0.5956 - accuracy: 0.7936 - val_loss: 1.4037 - val_accuracy: 0.5918\n",
            "Epoch 18/100\n",
            "65/65 [==============================] - 5s 77ms/step - loss: 0.4983 - accuracy: 0.8311 - val_loss: 1.5708 - val_accuracy: 0.5488\n",
            "Epoch 19/100\n",
            "65/65 [==============================] - 5s 74ms/step - loss: 0.4995 - accuracy: 0.8214 - val_loss: 1.5231 - val_accuracy: 0.5234\n"
          ]
        }
      ]
    },
    {
      "cell_type": "markdown",
      "source": [
        "# PREDICTIONS"
      ],
      "metadata": {
        "id": "_6y63Eh1XOlk"
      }
    },
    {
      "cell_type": "code",
      "source": [
        "os.listdir(data_path + '/test/Gin')"
      ],
      "metadata": {
        "colab": {
          "base_uri": "https://localhost:8080/"
        },
        "id": "jp83URkaS4c6",
        "outputId": "78434090-c2da-4efe-dfc7-1456109fce48"
      },
      "execution_count": null,
      "outputs": [
        {
          "output_type": "execute_result",
          "data": {
            "text/plain": [
              "['pol_il_Marcati-Extreme-Gin-42-0-7l-15942.jpg',\n",
              " 'pol_il_Gordons-White-Peach-Gin-37-5-0-7l-21993.jpg',\n",
              " 'pol_il_Langleys-London-Dry-Gin-41-7-0-7l-28736.jpg',\n",
              " 'pol_il_Boodles-British-Gin-London-Dry-40-0-7l-10971.jpg',\n",
              " 'pol_il_Whitley-Neill-Handcrafted-Quince-Dry-Gin-43-0-7l-13976.jpg',\n",
              " 'pol_il_Mayfair-London-Dry-Gin-40-0-7l-15764.jpg',\n",
              " 'pol_il_Whitley-Neill-Handcrafted-Raspberry-Gin-43-0-7l-19401.jpg',\n",
              " 'pol_il_Whitley-Neill-Platinum-Original-Gin-43-0-7l-28387.jpg',\n",
              " 'pol_il_Roku-Japanese-Craft-Gin-43-0-7l-14707.jpg',\n",
              " 'pol_il_1528-Cocoa-Gin-40-0-7l-30744.jpg',\n",
              " 'pol_il_Roku-Japanese-Craft-Gin-szklanka-43-0-7l-31219.jpg',\n",
              " 'pol_il_Metropolitan-London-Dry-Gin-40-0-7l-26049.jpg',\n",
              " 'pol_il_Haymans-Sloe-Gin-26-0-7l-10653.jpg',\n",
              " 'pol_il_Haymans-London-Dry-Gin-41-2-0-7l-15823.jpg',\n",
              " 'pol_il_Saffron-Gin-Gabriel-Boudier-Dijon-40-0-7l-10563.jpg',\n",
              " 'pol_il_Warners-Spring-Blossom-Gin-40-0-7l-20001.jpg',\n",
              " 'pol_il_Damrak-Amsterdam-Original-Gin-41-8-0-7l-10973.jpg',\n",
              " 'pol_il_Ungava-Canadian-Premium-Gin-43-1-0-7l-9017.jpg',\n",
              " 'pol_il_Berthas-Revenge-Small-Batch-Irish-Sloe-Gin-25-0-5l-28204.jpg',\n",
              " 'pol_il_Caorunn-Small-Batch-Scottish-Gin-41-8-0-7l-14515.jpg',\n",
              " 'pol_il_Ginato-Melograno-Gin-43-0-7l-21869.jpg',\n",
              " 'pol_il_Crafters-Aromatic-Flower-Gin-44-3-1-0l-24219.jpg',\n",
              " 'pol_il_Nordes-Atlantic-Galician-Gin-Spain-40-0-7l-10125.jpg',\n",
              " 'pol_il_Bombay-Sapphire-English-Estate-Limited-Edition-41-1-0l-22951.jpg',\n",
              " 'pol_il_Engine-Pure-Organic-Gin-42-0-5l-30882.jpg',\n",
              " 'pol_il_Haymans-Londron-Gin-Liqueur-40-0-7l-31285.jpg',\n",
              " 'pol_il_Beefeater-Blackberry-London-Gin-37-5-1-0l-25634.jpg',\n",
              " 'pol_il_Agricolo-Evra-Premium-Gin-47-0-7l-15534.jpg',\n",
              " 'pol_il_Makar-Original-Dry-Gin-Scotland-43-0-7l-23731.jpg',\n",
              " 'pol_il_Amarula-African-Gin-43-0-7l-29794.jpg',\n",
              " 'pol_il_Radermacher-Raerener-Topfergeist-Organic-Gin-38-0-7l-30742.jpg',\n",
              " 'pol_il_Harahorn-Cask-Aged-Gin-Norwegia-41-7-0-5l-25846.jpg',\n",
              " 'pol_il_The-Botanist-Islay-Dry-Gin-Bruichladdich-46-0-7l-4-butelki-Thomas-Henry-Botanical-Tonic-w-prezencie-31304.jpg',\n",
              " 'pol_il_Manly-Coastal-Citrus-Gin-Australia-43-0-7l-25930.jpg',\n",
              " 'pol_il_Manly-Lilly-Pilly-Pink-Gin-Australia-40-0-7l-25931.jpg',\n",
              " 'pol_il_Mankai-Japanese-Gin-43-0-7l-27549.jpg',\n",
              " 'pol_il_McQueen-And-The-Violet-Fog-Gin-40-0-7l-18210.jpg',\n",
              " 'pol_il_Osmoz-Cognac-Cask-Finish-Gin-45-6-0-5l-26537.jpg',\n",
              " 'pol_il_Thomas-Dakin-Manchester-England-Gin-42-0-7l-14157.jpg',\n",
              " 'pol_il_Elephant-Orange-Cocoa-Gin-40-0-5l-23931.jpg',\n",
              " 'pol_il_Pickerings-Gin-Szkocja-42-0-7l-16973.jpg',\n",
              " 'pol_il_Aviation-American-Gin-42-0-7l-9906.jpg',\n",
              " 'pol_il_Pickerings-Original-1947-Gin-Szkocja-42-0-7l-27857.jpg',\n",
              " 'pol_il_Cadenheads-Old-Raj-Classic-Gin-50-0-7l-8044.jpg',\n",
              " 'pol_il_Dictador-Colombian-Ortodoxy-Aged-Gin-balloon-glass-43-0-7l-21033.jpg',\n",
              " 'pol_il_Sylvius-Dutch-Gin-45-0-7l-23626.jpg',\n",
              " 'pol_il_Tobermory-Hebridean-Mountain-Gin-43-3-0-7l-27606.jpg',\n",
              " 'pol_il_Lawrenny-Van-Diemens-Gin-Tasmania-42-5-0-7l-29012.jpg',\n",
              " 'pol_il_Ferdinands-Saar-Dry-Gin-44-0-5l-18469.jpg',\n",
              " 'pol_il_Four-Pillars-Rare-Dry-Australian-Gin-41-8-0-7l-18522.jpg',\n",
              " 'pol_il_Monkey-47-Schwarzwald-Dry-Gin-47-0-5l-7049.jpg',\n",
              " 'pol_il_Elephant-Gin-Strength-57-0-5l-16431.jpg',\n",
              " 'pol_il_Buss-No-509-Premium-Midi-Cut-Gin-45-0-7l-30144.jpg',\n",
              " 'pol_il_Tanqueray-No-Ten-Gin-47-3-1-0l-13486.jpg',\n",
              " 'pol_il_Buss-No-509-Premium-Rebel-Cud-Gin-47-0-7l-30145.jpg',\n",
              " 'pol_il_Blue-Velvet-Violet-Gin-40-0-7l-28741.jpg',\n",
              " 'pol_il_Dictador-Colombian-Treasure-Aged-Gin-43-0-7l-7770.jpg',\n",
              " 'pol_il_Scapegrace-Premium-Dry-Gin-New-Zeland-42-2-0-7l-15448.jpg',\n",
              " 'pol_il_Ornabrak-Single-Malt-Irish-Gin-bez-opakowania-43-0-7l-29689.jpg',\n",
              " 'pol_il_Mermaid-Pink-Gin-Isle-of-Wight-38-0-7l-28161.jpg',\n",
              " 'pol_il_Nikka-Coffey-Gin-47-0-7l-14795.jpg',\n",
              " 'pol_il_Skagerrak-Nordic-Dry-Gin-Norwegia-44-9-0-7l-23353.jpg',\n",
              " 'pol_il_Bimber-Da-Hong-Pao-Tea-Gin-51-8-0-5l-28749.jpg',\n",
              " 'pol_il_Drumshanbo-Gunpowder-Irish-Gin-Ceramic-43-0-7l-20321.jpg',\n",
              " 'pol_il_Gilpins-Westmorland-Extra-Dry-Gin-47-0-7l-10831.jpg',\n",
              " 'pol_il_Buss-No-509-Premium-Pink-Grapefruit-Gin-40-0-7l-10972.jpg',\n",
              " 'pol_il_Buss-No-509-Persian-Peach-Premium-Gin-40-0-7l-11304.jpg',\n",
              " 'pol_il_M-H-Levantine-Gin-46-0-7l-26606.jpg',\n",
              " 'pol_il_Monkey-47-Schwarzwald-Dry-Gin-karton-47-0-5l-30881.jpg',\n",
              " 'pol_il_Four-Pillars-58-8-Navy-Strength-Gin-58-8-0-5l-25059.jpg',\n",
              " 'pol_il_Few-American-Gin-40-0-7l-10974.jpg',\n",
              " 'pol_il_Masahiro-Okinawa-Japanese-Gin-Recipe-01-47-0-7l-21660.jpg',\n",
              " 'pol_il_MRDC-River-Rose-Gin-Batch-1-40-0-75l-9704.jpg',\n",
              " 'pol_il_Dancing-Sands-Chocolate-Gin-New-Zealand-44-0-7l-25160.jpg',\n",
              " 'pol_il_Lussa-Isle-of-Jura-Gin-Scotland-42-0-7l-22429.jpg',\n",
              " 'pol_il_Scapegrace-Premium-Dry-Gin-Gold-Navy-Strength-57-0-7l-15449.jpg',\n",
              " 'pol_il_Matsui-Hakuto-Premium-Japanese-Gin-47-0-7l-23283.jpg',\n",
              " 'pol_il_Gin-Mare-Capri-Mediterranean-Gin-42-7-0-7l-31283.jpg',\n",
              " 'pol_il_Ki-No-Bi-Go-5th-Anniversary-Kyoto-Dry-Gin-50-0-7l-28748.jpg',\n",
              " 'pol_il_La-Su-Box-Mango-Gin-szklanki-43-0-7l-27556.jpg',\n",
              " 'pol_il_Amuerte-Coca-Gin-Green-Edition-43-0-7l-29301.jpg']"
            ]
          },
          "metadata": {},
          "execution_count": 59
        }
      ]
    },
    {
      "cell_type": "code",
      "source": [
        "filename = 'pol_il_Pickerings-Original-1947-Gin-Szkocja-42-0-7l-27857.jpg'"
      ],
      "metadata": {
        "id": "nsgrp5lETJy_"
      },
      "execution_count": null,
      "outputs": []
    },
    {
      "cell_type": "code",
      "source": [
        "img = cv2.imread(data_path + '/test/Gin/' + filename)"
      ],
      "metadata": {
        "id": "q657Mm8DTQhm"
      },
      "execution_count": null,
      "outputs": []
    },
    {
      "cell_type": "code",
      "source": [
        "cv2_imshow(img)"
      ],
      "metadata": {
        "colab": {
          "base_uri": "https://localhost:8080/",
          "height": 267
        },
        "id": "h-GuzxnjTXMC",
        "outputId": "dc37f52d-30f9-47a2-f90d-b04304e328dd"
      },
      "execution_count": null,
      "outputs": [
        {
          "output_type": "display_data",
          "data": {
            "text/plain": [
              "<PIL.Image.Image image mode=RGB size=119x250 at 0x7FBE61A85930>"
            ],
            "image/png": "[encoded data removed]"
          },
          "metadata": {}
        }
      ]
    },
    {
      "cell_type": "code",
      "source": [
        "resized = cv2.resize(img, (img_width, img_height))"
      ],
      "metadata": {
        "id": "zAB0-mOhTgHq"
      },
      "execution_count": null,
      "outputs": []
    },
    {
      "cell_type": "code",
      "source": [
        "model.predict(np.array([resized]))"
      ],
      "metadata": {
        "colab": {
          "base_uri": "https://localhost:8080/"
        },
        "id": "Dk9B4lFbTu-P",
        "outputId": "8d424989-c467-4a73-b526-ad26deae8292"
      },
      "execution_count": null,
      "outputs": [
        {
          "output_type": "stream",
          "name": "stdout",
          "text": [
            "1/1 [==============================] - 0s 24ms/step\n"
          ]
        },
        {
          "output_type": "execute_result",
          "data": {
            "text/plain": [
              "array([[0.80486166, 0.03132312, 0.00860951, 0.02587852, 0.0084738 ,\n",
              "        0.12085331]], dtype=float32)"
            ]
          },
          "metadata": {},
          "execution_count": 76
        }
      ]
    },
    {
      "cell_type": "code",
      "source": [
        "train_ds.class_names"
      ],
      "metadata": {
        "colab": {
          "base_uri": "https://localhost:8080/"
        },
        "id": "ROrJ5u9BT1KQ",
        "outputId": "0ab18431-8138-42a0-a75f-e01eab27f8c1"
      },
      "execution_count": null,
      "outputs": [
        {
          "output_type": "execute_result",
          "data": {
            "text/plain": [
              "['Gin',\n",
              " 'Likiery',\n",
              " 'Mezcal-Sotol-Tequila',\n",
              " 'Rum',\n",
              " 'Whiskey-amerykanska',\n",
              " 'Wodki-Okowity-Nalewki']"
            ]
          },
          "metadata": {},
          "execution_count": 77
        }
      ]
    },
    {
      "cell_type": "code",
      "source": [
        "pred = model.predict(np.array([resized])).argmax(axis=1)"
      ],
      "metadata": {
        "colab": {
          "base_uri": "https://localhost:8080/"
        },
        "id": "LYeyy0ZpT6gz",
        "outputId": "fc1cab3c-edaa-4a74-c51b-b8f3b61a0692"
      },
      "execution_count": null,
      "outputs": [
        {
          "output_type": "stream",
          "name": "stdout",
          "text": [
            "1/1 [==============================] - 0s 28ms/step\n"
          ]
        }
      ]
    },
    {
      "cell_type": "code",
      "source": [
        "train_ds.class_names[pred[0]]"
      ],
      "metadata": {
        "colab": {
          "base_uri": "https://localhost:8080/",
          "height": 35
        },
        "id": "lQRmRe52UEUZ",
        "outputId": "6ed67d73-079a-46ee-ee85-6ee04d2777b4"
      },
      "execution_count": null,
      "outputs": [
        {
          "output_type": "execute_result",
          "data": {
            "text/plain": [
              "'Gin'"
            ],
            "application/vnd.google.colaboratory.intrinsic+json": {
              "type": "string"
            }
          },
          "metadata": {},
          "execution_count": 79
        }
      ]
    }
  ]
}